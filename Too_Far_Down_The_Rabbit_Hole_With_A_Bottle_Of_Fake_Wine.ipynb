{
 "cells": [
  {
   "cell_type": "code",
   "execution_count": 1,
   "metadata": {},
   "outputs": [],
   "source": [
    "import pandas as pd \n",
    "import numpy as np\n",
    "import random\n",
    "from imblearn.under_sampling import RandomUnderSampler"
   ]
  },
  {
   "cell_type": "code",
   "execution_count": 2,
   "metadata": {
    "collapsed": true
   },
   "outputs": [],
   "source": [
    "wine_df = pd.read_csv('../winemag_data_first150k.csv')"
   ]
  },
  {
   "cell_type": "code",
   "execution_count": 3,
   "metadata": {},
   "outputs": [
    {
     "name": "stderr",
     "output_type": "stream",
     "text": [
      "/Users/adamszabunio/anaconda/envs/dl/lib/python3.6/site-packages/ipykernel_launcher.py:13: SettingWithCopyWarning: \n",
      "A value is trying to be set on a copy of a slice from a DataFrame.\n",
      "Try using .loc[row_indexer,col_indexer] = value instead\n",
      "\n",
      "See the caveats in the documentation: http://pandas.pydata.org/pandas-docs/stable/indexing.html#indexing-view-versus-copy\n",
      "  del sys.path[0]\n"
     ]
    }
   ],
   "source": [
    "wine_df = wine_df.drop_duplicates(subset='description', keep='last')\n",
    "\n",
    "wine_df = wine_df.drop(['Unnamed: 0', 'country', 'designation', 'points', 'price', 'province', \n",
    "                        'region_1', 'region_2', 'winery'], axis=1)\n",
    "\n",
    "greater = wine_df.variety.value_counts() >= 50\n",
    "greater_tru = greater[greater==True]\n",
    "greaterthan50 = list(greater_tru.index)\n",
    "\n",
    "wine_df.variety = wine_df.variety.apply(lambda x:x if x in greaterthan50 else 'Other')\n",
    "\n",
    "wine_50_df = wine_df[wine_df.variety!='Other']\n",
    "wine_50_df['fake_X'] = wine_50_df.index\n",
    "fake_X = np.array(wine_50_df['fake_X'])"
   ]
  },
  {
   "cell_type": "code",
   "execution_count": 4,
   "metadata": {
    "collapsed": true
   },
   "outputs": [],
   "source": [
    "target = wine_50_df['variety']\n",
    "y = pd.get_dummies(target)\n",
    "_, y_scalar = np.where(y>0)"
   ]
  },
  {
   "cell_type": "code",
   "execution_count": 5,
   "metadata": {},
   "outputs": [
    {
     "data": {
      "text/plain": [
       "((5508, 1), (5508,))"
      ]
     },
     "execution_count": 5,
     "metadata": {},
     "output_type": "execute_result"
    }
   ],
   "source": [
    "rus2 = RandomUnderSampler(replacement=False)\n",
    "fake_X = fake_X.reshape(len(fake_X), 1)\n",
    "X_res, y_res = rus2.fit_sample(fake_X, y_scalar)\n",
    "\n",
    "X_res.shape, y_res.shape"
   ]
  },
  {
   "cell_type": "code",
   "execution_count": 6,
   "metadata": {},
   "outputs": [
    {
     "data": {
      "text/plain": [
       "(5508,)"
      ]
     },
     "execution_count": 6,
     "metadata": {},
     "output_type": "execute_result"
    }
   ],
   "source": [
    "X_res[:,0].shape"
   ]
  },
  {
   "cell_type": "code",
   "execution_count": 7,
   "metadata": {},
   "outputs": [
    {
     "data": {
      "text/plain": [
       "array([ 28914,  29199,  33708, ..., 127667, 105235, 148147])"
      ]
     },
     "execution_count": 7,
     "metadata": {},
     "output_type": "execute_result"
    }
   ],
   "source": [
    "balanced_lst = X_res[:, 0]\n",
    "balanced_lst"
   ]
  },
  {
   "cell_type": "code",
   "execution_count": 8,
   "metadata": {},
   "outputs": [
    {
     "name": "stderr",
     "output_type": "stream",
     "text": [
      "/Users/adamszabunio/anaconda/envs/dl/lib/python3.6/site-packages/pandas/core/generic.py:2999: SettingWithCopyWarning: \n",
      "A value is trying to be set on a copy of a slice from a DataFrame.\n",
      "Try using .loc[row_indexer,col_indexer] = value instead\n",
      "\n",
      "See the caveats in the documentation: http://pandas.pydata.org/pandas-docs/stable/indexing.html#indexing-view-versus-copy\n",
      "  self[name] = value\n"
     ]
    },
    {
     "data": {
      "text/html": [
       "<div>\n",
       "<style>\n",
       "    .dataframe thead tr:only-child th {\n",
       "        text-align: right;\n",
       "    }\n",
       "\n",
       "    .dataframe thead th {\n",
       "        text-align: left;\n",
       "    }\n",
       "\n",
       "    .dataframe tbody tr th {\n",
       "        vertical-align: top;\n",
       "    }\n",
       "</style>\n",
       "<table border=\"1\" class=\"dataframe\">\n",
       "  <thead>\n",
       "    <tr style=\"text-align: right;\">\n",
       "      <th></th>\n",
       "      <th>description</th>\n",
       "      <th>variety</th>\n",
       "      <th>fake_X</th>\n",
       "    </tr>\n",
       "  </thead>\n",
       "  <tbody>\n",
       "    <tr>\n",
       "      <th>0</th>\n",
       "      <td>This tremendous 100% varietal wine hails from ...</td>\n",
       "      <td>Cabernet Sauvignon</td>\n",
       "      <td>out</td>\n",
       "    </tr>\n",
       "    <tr>\n",
       "      <th>1</th>\n",
       "      <td>Ripe aromas of fig, blackberry and cassis are ...</td>\n",
       "      <td>Tinta de Toro</td>\n",
       "      <td>1</td>\n",
       "    </tr>\n",
       "    <tr>\n",
       "      <th>2</th>\n",
       "      <td>Mac Watson honors the memory of a wine once ma...</td>\n",
       "      <td>Sauvignon Blanc</td>\n",
       "      <td>out</td>\n",
       "    </tr>\n",
       "    <tr>\n",
       "      <th>3</th>\n",
       "      <td>This spent 20 months in 30% new French oak, an...</td>\n",
       "      <td>Pinot Noir</td>\n",
       "      <td>out</td>\n",
       "    </tr>\n",
       "    <tr>\n",
       "      <th>5</th>\n",
       "      <td>Deep, dense and pure from the opening bell, th...</td>\n",
       "      <td>Tinta de Toro</td>\n",
       "      <td>out</td>\n",
       "    </tr>\n",
       "  </tbody>\n",
       "</table>\n",
       "</div>"
      ],
      "text/plain": [
       "                                         description             variety  \\\n",
       "0  This tremendous 100% varietal wine hails from ...  Cabernet Sauvignon   \n",
       "1  Ripe aromas of fig, blackberry and cassis are ...       Tinta de Toro   \n",
       "2  Mac Watson honors the memory of a wine once ma...     Sauvignon Blanc   \n",
       "3  This spent 20 months in 30% new French oak, an...          Pinot Noir   \n",
       "5  Deep, dense and pure from the opening bell, th...       Tinta de Toro   \n",
       "\n",
       "  fake_X  \n",
       "0    out  \n",
       "1      1  \n",
       "2    out  \n",
       "3    out  \n",
       "5    out  "
      ]
     },
     "execution_count": 8,
     "metadata": {},
     "output_type": "execute_result"
    }
   ],
   "source": [
    "wine_50_df.fake_X = wine_50_df.fake_X.apply(lambda x:x if x in balanced_lst else 'out')\n",
    "wine_50_df.head()"
   ]
  },
  {
   "cell_type": "code",
   "execution_count": 9,
   "metadata": {},
   "outputs": [
    {
     "data": {
      "text/html": [
       "<div>\n",
       "<style>\n",
       "    .dataframe thead tr:only-child th {\n",
       "        text-align: right;\n",
       "    }\n",
       "\n",
       "    .dataframe thead th {\n",
       "        text-align: left;\n",
       "    }\n",
       "\n",
       "    .dataframe tbody tr th {\n",
       "        vertical-align: top;\n",
       "    }\n",
       "</style>\n",
       "<table border=\"1\" class=\"dataframe\">\n",
       "  <thead>\n",
       "    <tr style=\"text-align: right;\">\n",
       "      <th></th>\n",
       "      <th>description</th>\n",
       "      <th>variety</th>\n",
       "      <th>fake_X</th>\n",
       "    </tr>\n",
       "  </thead>\n",
       "  <tbody>\n",
       "    <tr>\n",
       "      <th>1</th>\n",
       "      <td>Ripe aromas of fig, blackberry and cassis are ...</td>\n",
       "      <td>Tinta de Toro</td>\n",
       "      <td>1</td>\n",
       "    </tr>\n",
       "    <tr>\n",
       "      <th>6</th>\n",
       "      <td>Slightly gritty black-fruit aromas include a s...</td>\n",
       "      <td>Tinta de Toro</td>\n",
       "      <td>6</td>\n",
       "    </tr>\n",
       "    <tr>\n",
       "      <th>10</th>\n",
       "      <td>Elegance, complexity and structure come togeth...</td>\n",
       "      <td>Friulano</td>\n",
       "      <td>10</td>\n",
       "    </tr>\n",
       "    <tr>\n",
       "      <th>13</th>\n",
       "      <td>This wine is in peak condition. The tannins an...</td>\n",
       "      <td>Tannat</td>\n",
       "      <td>13</td>\n",
       "    </tr>\n",
       "    <tr>\n",
       "      <th>22</th>\n",
       "      <td>Tarry blackberry and cheesy oak aromas are app...</td>\n",
       "      <td>Tinta de Toro</td>\n",
       "      <td>22</td>\n",
       "    </tr>\n",
       "  </tbody>\n",
       "</table>\n",
       "</div>"
      ],
      "text/plain": [
       "                                          description        variety fake_X\n",
       "1   Ripe aromas of fig, blackberry and cassis are ...  Tinta de Toro      1\n",
       "6   Slightly gritty black-fruit aromas include a s...  Tinta de Toro      6\n",
       "10  Elegance, complexity and structure come togeth...       Friulano     10\n",
       "13  This wine is in peak condition. The tannins an...         Tannat     13\n",
       "22  Tarry blackberry and cheesy oak aromas are app...  Tinta de Toro     22"
      ]
     },
     "execution_count": 9,
     "metadata": {},
     "output_type": "execute_result"
    }
   ],
   "source": [
    "balanced_df = wine_50_df[wine_50_df.fake_X !='out']\n",
    "balanced_df.head()"
   ]
  },
  {
   "cell_type": "code",
   "execution_count": 10,
   "metadata": {},
   "outputs": [
    {
     "data": {
      "text/plain": [
       "(5508, 3)"
      ]
     },
     "execution_count": 10,
     "metadata": {},
     "output_type": "execute_result"
    }
   ],
   "source": [
    "balanced_df.shape"
   ]
  },
  {
   "cell_type": "code",
   "execution_count": 11,
   "metadata": {},
   "outputs": [
    {
     "data": {
      "text/plain": [
       "(5508,)"
      ]
     },
     "execution_count": 11,
     "metadata": {},
     "output_type": "execute_result"
    }
   ],
   "source": [
    "variety_text = balanced_df.variety + \": \" + balanced_df.description\n",
    "\n",
    "variety_text.shape"
   ]
  },
  {
   "cell_type": "code",
   "execution_count": 12,
   "metadata": {},
   "outputs": [
    {
     "data": {
      "text/plain": [
       "1     Tinta de Toro: Ripe aromas of fig, blackberry ...\n",
       "6     Tinta de Toro: Slightly gritty black-fruit aro...\n",
       "10    Friulano: Elegance, complexity and structure c...\n",
       "13    Tannat: This wine is in peak condition. The ta...\n",
       "22    Tinta de Toro: Tarry blackberry and cheesy oak...\n",
       "dtype: object"
      ]
     },
     "execution_count": 12,
     "metadata": {},
     "output_type": "execute_result"
    }
   ],
   "source": [
    "variety_text.head()"
   ]
  },
  {
   "cell_type": "code",
   "execution_count": 18,
   "metadata": {},
   "outputs": [
    {
     "data": {
      "text/plain": [
       "\"Chardonnay: While this Chardonnay is packed with ripe pineapple, pear and tropical fruit and has decent acidity, it's awkwardly sugary and raw. Tastes like Chinese sweet and sour sauce. The fruit is good, but the wine needs to be drier.\""
      ]
     },
     "execution_count": 18,
     "metadata": {},
     "output_type": "execute_result"
    }
   ],
   "source": [
    "rand_generator = np.random.randint((variety_text.shape[0]-1))\n",
    "list(variety_text)[rand_generator]"
   ]
  },
  {
   "cell_type": "code",
   "execution_count": 26,
   "metadata": {
    "scrolled": false
   },
   "outputs": [
    {
     "name": "stdout",
     "output_type": "stream",
     "text": [
      "Sauvignon: Aromas include cut grass, exotic fruit and crushed tomato vine. The palate delivers green melon and creamy white peach brightened by lemon zest and crisp acidity.\n",
      "\n",
      "Mencía: Dark as night, with prune and rubber on the nose along with murk and compost. It's extracted to the max, leaving a rubbery feel to go with supercharged boysenberry flavors. Gritty and forceful on the finish, and pushing tons of runaway flavor. Not for those who like restrained red wines.\n",
      "\n",
      "Pinot Bianco: A clean and luminous appearance set the stage for what follows: aromas of citrus, white stone, wildflowers and grass. Crisp and refreshing citrus flavors follow through to the palate and finish.\n",
      "\n",
      "Pinot Grigio: Despite never having seen a splinter of wood, this wine is hugely rich and enormous in the most palate-flattering flavors. It's an explosion of jammy peaches, Delicious apples, mangoes and kiwi fruits. The acidity is high and the wine is balanced and clean, but it's the amazing fruit that really stars.\n",
      "\n",
      "Agiorgitiko: The nose starts with violets, vanilla, strawberry and cherry, followed by bright red fruit flavors of strawberry and cherry with an undercurrent of dark chocolate and cracked black pepper. A solid red that will pair well with grilled meats and soft cheeses.\n",
      "\n",
      "White Blend: The Viognier in the wine is dominant on the nose and palate, but there's also a green-fruit quality. The feel is full and creamy, with polished edges. Flavors of papaya and generic white fruits are limited and peppery, while white pepper spices up the finish. Imported by Ecovalley Quality Wine Group and National Refrescos Import Company, LLC.\n",
      "\n",
      "Barbera: Classic California Barbera here. It's probably softer and gentler in tannins than Grandpa ever had, but still offers the same midnight black color, deep flavors of plums, blackberries, coffee and leather, and overall balance and integrity. Try as a very interesting alternative to a fine Cabernet.\n",
      "\n",
      "Mencía: Punchy, raw cranberry and red-plum aromas turn more candied with airing. This has an easy flowing feel as well as simple, fresh cherry and raspberry flavors. Dry spice, cocoa and residual cherry flavors drive the finish.\n",
      "\n",
      "Verdejo: This is fresh and clean upfront, but mild, with saline, mineral and melon aromas. It feels round and mellow, with tame acidity and waxy flavors of peach, melon and citrus. Dry on the finish.\n",
      "\n",
      "Sparkling Blend: Aged and slightly oxidized, this caramel colored sparkling wine is reaching the far end of its natural lifespan. Aromas of apricot, honeysuckle and butterscotch give it nice momentum in the mouth.\n",
      "\n"
     ]
    }
   ],
   "source": [
    "for i in range(10):\n",
    "    print(list(variety_text)[np.random.randint((variety_text.shape[0]-1))])\n",
    "    print()"
   ]
  },
  {
   "cell_type": "markdown",
   "metadata": {},
   "source": [
    "# Spot the fake"
   ]
  },
  {
   "cell_type": "markdown",
   "metadata": {},
   "source": [
    "a) Rhône-style Red Blend: On the lighter side of the Côtes du Rhône spectrum, with a slightly briary note to the cherry fruit. Turns more olivaceous on the silky-textured finish. Drink now.\n",
    "\n",
    "b) Semillon-Sauvignon Blanc: Slender and simple, this has a green asparagus flavor that thins the citrus and pear notes.\n",
    "\n",
    "c) Pinot Nero: This is a touch of pie flavors are dried finish. A bit of grilled fruit. The wine is for the hotey.\n",
    "\n",
    "d) Cabernet Sauvignon-Shiraz: Full-bodied and powerful, this is still quite youthful, powered by Graves-like notes of earth, tobacco and vanilla wrapped around a solid core of cassis. A bit chewy on the finish, but there's plenty of fruit, too; drink 2010–2020. 74% Cabernet Sauvignon, 26% Shiraz."
   ]
  },
  {
   "cell_type": "markdown",
   "metadata": {},
   "source": [
    "___"
   ]
  },
  {
   "cell_type": "markdown",
   "metadata": {},
   "source": [
    "a) Grenache: This Armada vineyard (Cayuse) Grenache has got the chewy flavors of white peach, apple and cola and oak wine. The wine is the interesting style the structure, elegantly pear in the mouth and troping and very example oak black pricolfors.\n",
    "\n",
    "b) Malbec-Merlot: This is an attractive wine, with fruit and firm, supporting tannins. It has a mint flavor and a smooth texture, balanced with damson fruit. This is ripe and ready to drink over the next year.\n",
    "\n",
    "c) Malbec: Savory and a step up compared to the rest of Chile's under-$15 Malbecs. This wine has complexity and character; it smells a little like Syrah but in the mouth it's as full, cuddly and friendly as any Malbec from Argentina or elsewhere. Saturated, fruity and fun to drink, with a spot of heat and char on the finish.\n",
    "\n",
    "d) G-S-M: This starts off with a huge whack of toasty, vanilla-laden oak, then supports those flavors with just enough weight and body. Opt for drinking this over the next 1–2 years, before the fruit drops off.\n"
   ]
  },
  {
   "cell_type": "markdown",
   "metadata": {},
   "source": [
    "___"
   ]
  },
  {
   "cell_type": "markdown",
   "metadata": {},
   "source": [
    "a) Fumé Blanc: Light, pleasant and fruity, with plenty of lemon and honey flavors. It's also nicely dry, with good acidity and balance.\n",
    "\n",
    "b) Shiraz-Viognier: A medium-bodied wine with gentle tannins, this is a savory offering, with notes of plum, meat, tapenade and peppery spices accented by cedary oak, particularly apparent on the mouth-watering finish. Drink now–2015.\n",
    "\n",
    "c) Bordeaux-style White Blend: This is a ripe and raspberry and cherry and cherry finish. The wine is lean candied black cherry, cassis, but the close. Turny wine, mouthfeel is a power and structure or a complex, with soft notes of fresh acidity.\n",
    "\n",
    "d) Agiorgitiko: Blueberry, pepper and cedar aromas and flavors dominate in this structured, elegant red. The wine finishes long with spice and dark cherry notes. A collectible wine that will pair well with poultry, game.\n"
   ]
  },
  {
   "cell_type": "markdown",
   "metadata": {},
   "source": [
    "____"
   ]
  },
  {
   "cell_type": "markdown",
   "metadata": {},
   "source": [
    "a) Meritage: An enticing Meritage, with aromas of violet, anise on the finish. This is a structured and structured that is rich, with a fresh, structured and fresh acidity that shows a soft, pineapple, pepper aromas of citrus and curam, strawberry, plum and ripe value and cola, toasted nut on the palate, with a hint of spice flavors are dried citrus and cassis and a pleasant flavors of the vintage.\n",
    "\n",
    "b) Mencía: Dark as night, with prune and rubber on the nose along with murk and compost. It's extracted to the max, leaving a rubbery feel to go with supercharged boysenberry flavors. Gritty and forceful on the finish, and pushing tons of runaway flavor. Not for those who like restrained red wines.\n",
    "\n",
    "c) Mencía: Punchy, raw cranberry and red-plum aromas turn more candied with airing. This has an easy flowing feel as well as simple, fresh cherry and raspberry flavors. Dry spice, cocoa and residual cherry flavors drive the finish.\n",
    "\n",
    "d) Verdejo: This is fresh and clean upfront, but mild, with saline, mineral and melon aromas. It feels round and mellow, with tame acidity and waxy flavors of peach, melon and citrus. Dry on the finish.\n"
   ]
  },
  {
   "cell_type": "markdown",
   "metadata": {},
   "source": [
    "---"
   ]
  }
 ],
 "metadata": {
  "kernelspec": {
   "display_name": "Python 3",
   "language": "python",
   "name": "python3"
  },
  "language_info": {
   "codemirror_mode": {
    "name": "ipython",
    "version": 3
   },
   "file_extension": ".py",
   "mimetype": "text/x-python",
   "name": "python",
   "nbconvert_exporter": "python",
   "pygments_lexer": "ipython3",
   "version": "3.6.1"
  }
 },
 "nbformat": 4,
 "nbformat_minor": 2
}
