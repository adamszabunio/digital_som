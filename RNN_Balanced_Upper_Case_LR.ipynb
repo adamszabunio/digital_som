{
 "cells": [
  {
   "cell_type": "code",
   "execution_count": 2,
   "metadata": {},
   "outputs": [
    {
     "name": "stderr",
     "output_type": "stream",
     "text": [
      "Using TensorFlow backend.\n"
     ]
    }
   ],
   "source": [
    "import pandas as pd \n",
    "from sklearn.model_selection import train_test_split\n",
    "from keras.models import Sequential\n",
    "from keras.layers import Dense, Activation\n",
    "from keras.layers import LSTM\n",
    "from keras.optimizers import RMSprop\n",
    "from keras.callbacks import TensorBoard\n",
    "import numpy as np\n",
    "import random\n",
    "import sys\n",
    "from imblearn.under_sampling import RandomUnderSampler"
   ]
  },
  {
   "cell_type": "code",
   "execution_count": 3,
   "metadata": {
    "collapsed": true
   },
   "outputs": [],
   "source": [
    "wine_df = pd.read_csv('winemag_data_first150k.csv')"
   ]
  },
  {
   "cell_type": "markdown",
   "metadata": {},
   "source": [
    "### Preprocessing"
   ]
  },
  {
   "cell_type": "code",
   "execution_count": 4,
   "metadata": {},
   "outputs": [
    {
     "name": "stderr",
     "output_type": "stream",
     "text": [
      "/home/adamszabunio/anaconda3/envs/dl/lib/python3.6/site-packages/ipykernel_launcher.py:13: SettingWithCopyWarning: \n",
      "A value is trying to be set on a copy of a slice from a DataFrame.\n",
      "Try using .loc[row_indexer,col_indexer] = value instead\n",
      "\n",
      "See the caveats in the documentation: http://pandas.pydata.org/pandas-docs/stable/indexing.html#indexing-view-versus-copy\n",
      "  del sys.path[0]\n"
     ]
    }
   ],
   "source": [
    "wine_df = wine_df.drop_duplicates(subset='description', keep='last')\n",
    "\n",
    "wine_df = wine_df.drop(['Unnamed: 0', 'country', 'designation', 'points', 'price', 'province', \n",
    "                        'region_1', 'region_2', 'winery'], axis=1)\n",
    "\n",
    "greater = wine_df.variety.value_counts() >= 50\n",
    "greater_tru = greater[greater==True]\n",
    "greaterthan50 = list(greater_tru.index)\n",
    "\n",
    "wine_df.variety = wine_df.variety.apply(lambda x:x if x in greaterthan50 else 'Other')\n",
    "\n",
    "wine_50_df = wine_df[wine_df.variety!='Other']\n",
    "wine_50_df['fake_X'] = wine_50_df.index\n",
    "fake_X = np.array(wine_50_df['fake_X'])"
   ]
  },
  {
   "cell_type": "code",
   "execution_count": 5,
   "metadata": {
    "collapsed": true
   },
   "outputs": [],
   "source": [
    "target = wine_50_df['variety']\n",
    "y = pd.get_dummies(target)\n",
    "_, y_scalar = np.where(y>0)\n",
    "\n",
    "# variety_text = wine_df.variety + \": \" + wine_df.description\n",
    "\n",
    "# variety_text.shapefake_X.shape, y_scalar.shape"
   ]
  },
  {
   "cell_type": "code",
   "execution_count": 6,
   "metadata": {},
   "outputs": [
    {
     "data": {
      "text/plain": [
       "((5508, 1), (5508,))"
      ]
     },
     "execution_count": 6,
     "metadata": {},
     "output_type": "execute_result"
    }
   ],
   "source": [
    "rus2 = RandomUnderSampler(replacement=False)\n",
    "fake_X = fake_X.reshape(len(fake_X), 1)\n",
    "X_res, y_res = rus2.fit_sample(fake_X, y_scalar)\n",
    "\n",
    "X_res.shape, y_res.shape"
   ]
  },
  {
   "cell_type": "code",
   "execution_count": 7,
   "metadata": {},
   "outputs": [
    {
     "data": {
      "text/plain": [
       "(5508,)"
      ]
     },
     "execution_count": 7,
     "metadata": {},
     "output_type": "execute_result"
    }
   ],
   "source": [
    "X_res[:,0].shape"
   ]
  },
  {
   "cell_type": "code",
   "execution_count": 8,
   "metadata": {},
   "outputs": [
    {
     "data": {
      "text/plain": [
       "array([ 28914,  29199,  33708, ..., 105073, 124703, 148365])"
      ]
     },
     "execution_count": 8,
     "metadata": {},
     "output_type": "execute_result"
    }
   ],
   "source": [
    "balanced_lst = X_res[:, 0]\n",
    "balanced_lst"
   ]
  },
  {
   "cell_type": "code",
   "execution_count": 9,
   "metadata": {},
   "outputs": [
    {
     "name": "stderr",
     "output_type": "stream",
     "text": [
      "/home/adamszabunio/anaconda3/envs/dl/lib/python3.6/site-packages/pandas/core/generic.py:3110: SettingWithCopyWarning: \n",
      "A value is trying to be set on a copy of a slice from a DataFrame.\n",
      "Try using .loc[row_indexer,col_indexer] = value instead\n",
      "\n",
      "See the caveats in the documentation: http://pandas.pydata.org/pandas-docs/stable/indexing.html#indexing-view-versus-copy\n",
      "  self[name] = value\n"
     ]
    },
    {
     "data": {
      "text/html": [
       "<div>\n",
       "<style>\n",
       "    .dataframe thead tr:only-child th {\n",
       "        text-align: right;\n",
       "    }\n",
       "\n",
       "    .dataframe thead th {\n",
       "        text-align: left;\n",
       "    }\n",
       "\n",
       "    .dataframe tbody tr th {\n",
       "        vertical-align: top;\n",
       "    }\n",
       "</style>\n",
       "<table border=\"1\" class=\"dataframe\">\n",
       "  <thead>\n",
       "    <tr style=\"text-align: right;\">\n",
       "      <th></th>\n",
       "      <th>description</th>\n",
       "      <th>variety</th>\n",
       "      <th>fake_X</th>\n",
       "    </tr>\n",
       "  </thead>\n",
       "  <tbody>\n",
       "    <tr>\n",
       "      <th>0</th>\n",
       "      <td>This tremendous 100% varietal wine hails from ...</td>\n",
       "      <td>Cabernet Sauvignon</td>\n",
       "      <td>out</td>\n",
       "    </tr>\n",
       "    <tr>\n",
       "      <th>1</th>\n",
       "      <td>Ripe aromas of fig, blackberry and cassis are ...</td>\n",
       "      <td>Tinta de Toro</td>\n",
       "      <td>1</td>\n",
       "    </tr>\n",
       "    <tr>\n",
       "      <th>2</th>\n",
       "      <td>Mac Watson honors the memory of a wine once ma...</td>\n",
       "      <td>Sauvignon Blanc</td>\n",
       "      <td>out</td>\n",
       "    </tr>\n",
       "    <tr>\n",
       "      <th>3</th>\n",
       "      <td>This spent 20 months in 30% new French oak, an...</td>\n",
       "      <td>Pinot Noir</td>\n",
       "      <td>out</td>\n",
       "    </tr>\n",
       "    <tr>\n",
       "      <th>5</th>\n",
       "      <td>Deep, dense and pure from the opening bell, th...</td>\n",
       "      <td>Tinta de Toro</td>\n",
       "      <td>5</td>\n",
       "    </tr>\n",
       "  </tbody>\n",
       "</table>\n",
       "</div>"
      ],
      "text/plain": [
       "                                         description             variety  \\\n",
       "0  This tremendous 100% varietal wine hails from ...  Cabernet Sauvignon   \n",
       "1  Ripe aromas of fig, blackberry and cassis are ...       Tinta de Toro   \n",
       "2  Mac Watson honors the memory of a wine once ma...     Sauvignon Blanc   \n",
       "3  This spent 20 months in 30% new French oak, an...          Pinot Noir   \n",
       "5  Deep, dense and pure from the opening bell, th...       Tinta de Toro   \n",
       "\n",
       "  fake_X  \n",
       "0    out  \n",
       "1      1  \n",
       "2    out  \n",
       "3    out  \n",
       "5      5  "
      ]
     },
     "execution_count": 9,
     "metadata": {},
     "output_type": "execute_result"
    }
   ],
   "source": [
    "wine_50_df.fake_X = wine_50_df.fake_X.apply(lambda x:x if x in balanced_lst else 'out')\n",
    "wine_50_df.head()"
   ]
  },
  {
   "cell_type": "code",
   "execution_count": 10,
   "metadata": {},
   "outputs": [
    {
     "data": {
      "text/html": [
       "<div>\n",
       "<style>\n",
       "    .dataframe thead tr:only-child th {\n",
       "        text-align: right;\n",
       "    }\n",
       "\n",
       "    .dataframe thead th {\n",
       "        text-align: left;\n",
       "    }\n",
       "\n",
       "    .dataframe tbody tr th {\n",
       "        vertical-align: top;\n",
       "    }\n",
       "</style>\n",
       "<table border=\"1\" class=\"dataframe\">\n",
       "  <thead>\n",
       "    <tr style=\"text-align: right;\">\n",
       "      <th></th>\n",
       "      <th>description</th>\n",
       "      <th>variety</th>\n",
       "      <th>fake_X</th>\n",
       "    </tr>\n",
       "  </thead>\n",
       "  <tbody>\n",
       "    <tr>\n",
       "      <th>1</th>\n",
       "      <td>Ripe aromas of fig, blackberry and cassis are ...</td>\n",
       "      <td>Tinta de Toro</td>\n",
       "      <td>1</td>\n",
       "    </tr>\n",
       "    <tr>\n",
       "      <th>5</th>\n",
       "      <td>Deep, dense and pure from the opening bell, th...</td>\n",
       "      <td>Tinta de Toro</td>\n",
       "      <td>5</td>\n",
       "    </tr>\n",
       "    <tr>\n",
       "      <th>7</th>\n",
       "      <td>Lush cedary black-fruit aromas are luxe and of...</td>\n",
       "      <td>Tinta de Toro</td>\n",
       "      <td>7</td>\n",
       "    </tr>\n",
       "    <tr>\n",
       "      <th>10</th>\n",
       "      <td>Elegance, complexity and structure come togeth...</td>\n",
       "      <td>Friulano</td>\n",
       "      <td>10</td>\n",
       "    </tr>\n",
       "    <tr>\n",
       "      <th>13</th>\n",
       "      <td>This wine is in peak condition. The tannins an...</td>\n",
       "      <td>Tannat</td>\n",
       "      <td>13</td>\n",
       "    </tr>\n",
       "  </tbody>\n",
       "</table>\n",
       "</div>"
      ],
      "text/plain": [
       "                                          description        variety fake_X\n",
       "1   Ripe aromas of fig, blackberry and cassis are ...  Tinta de Toro      1\n",
       "5   Deep, dense and pure from the opening bell, th...  Tinta de Toro      5\n",
       "7   Lush cedary black-fruit aromas are luxe and of...  Tinta de Toro      7\n",
       "10  Elegance, complexity and structure come togeth...       Friulano     10\n",
       "13  This wine is in peak condition. The tannins an...         Tannat     13"
      ]
     },
     "execution_count": 10,
     "metadata": {},
     "output_type": "execute_result"
    }
   ],
   "source": [
    "balanced_df = wine_50_df[wine_50_df.fake_X !='out']\n",
    "balanced_df.head()"
   ]
  },
  {
   "cell_type": "code",
   "execution_count": 11,
   "metadata": {},
   "outputs": [
    {
     "data": {
      "text/plain": [
       "(5508, 3)"
      ]
     },
     "execution_count": 11,
     "metadata": {},
     "output_type": "execute_result"
    }
   ],
   "source": [
    "balanced_df.shape"
   ]
  },
  {
   "cell_type": "code",
   "execution_count": 12,
   "metadata": {},
   "outputs": [
    {
     "data": {
      "text/plain": [
       "(5508,)"
      ]
     },
     "execution_count": 12,
     "metadata": {},
     "output_type": "execute_result"
    }
   ],
   "source": [
    "variety_text = balanced_df.variety + \": \" + balanced_df.description\n",
    "\n",
    "variety_text.shape"
   ]
  },
  {
   "cell_type": "code",
   "execution_count": 13,
   "metadata": {},
   "outputs": [
    {
     "data": {
      "text/plain": [
       "1     Tinta de Toro: Ripe aromas of fig, blackberry ...\n",
       "5     Tinta de Toro: Deep, dense and pure from the o...\n",
       "7     Tinta de Toro: Lush cedary black-fruit aromas ...\n",
       "10    Friulano: Elegance, complexity and structure c...\n",
       "13    Tannat: This wine is in peak condition. The ta...\n",
       "dtype: object"
      ]
     },
     "execution_count": 13,
     "metadata": {},
     "output_type": "execute_result"
    }
   ],
   "source": [
    "variety_text.head()"
   ]
  },
  {
   "cell_type": "code",
   "execution_count": 14,
   "metadata": {},
   "outputs": [
    {
     "name": "stdout",
     "output_type": "stream",
     "text": [
      "corpus length: 1389453\n"
     ]
    }
   ],
   "source": [
    "text = \"\"\n",
    "for description in variety_text:\n",
    "    text += description + \" \"\n",
    "    \n",
    "print('corpus length:', len(text))"
   ]
  },
  {
   "cell_type": "code",
   "execution_count": 15,
   "metadata": {},
   "outputs": [
    {
     "data": {
      "text/plain": [
       "'Tinta de Toro: Ripe aromas of fig, blackberry and cassis are softened and sweetened by a slathering of oaky chocolate and vanilla. This is full, layered, intense and cushioned on the palate, with rich flavors of chocolaty black fruits and baking spices. A toasty, everlasting finish is heady but ideally balanced. Drink through 2023. Tinta de Toro: Deep, dense and pure from the opening bell, this Toro is a winner. Aromas of dark ripe black fruits are cool and moderately oaked. This feels massive on the palate but sensationally balanced. Flavors of blackberry, coffee, mocha and toasty oak finish spicy, smooth and heady. Drink this exemplary Toro through 2023. Tinta de Toro: Lush cedary black-fruit aromas are luxe and offer notes of marzipan and vanilla. This bruiser is massive and tannic on the palate, but still lush and friendly. Chocolate is a key flavor, while baked berry and cassis flavors are hardly wallflowers. On the finish, this is tannic and deep as a sea trench. Drink this satur'"
      ]
     },
     "execution_count": 15,
     "metadata": {},
     "output_type": "execute_result"
    }
   ],
   "source": [
    "text[:1000]"
   ]
  },
  {
   "cell_type": "code",
   "execution_count": 16,
   "metadata": {},
   "outputs": [
    {
     "name": "stdout",
     "output_type": "stream",
     "text": [
      "total chars: 111\n"
     ]
    }
   ],
   "source": [
    "chars = sorted(list(set(text)))\n",
    "print('total chars:', len(chars))\n",
    "char_indices = dict((c, i) for i, c in enumerate(chars))\n",
    "indices_char = dict((i, c) for i, c in enumerate(chars))"
   ]
  },
  {
   "cell_type": "code",
   "execution_count": 17,
   "metadata": {},
   "outputs": [
    {
     "name": "stdout",
     "output_type": "stream",
     "text": [
      "nb sequences: 463138\n"
     ]
    }
   ],
   "source": [
    "# cut the text in semi-redundant sequences of maxlen characters\n",
    "maxlen = 40\n",
    "step = 3\n",
    "sentences = []\n",
    "next_chars = []\n",
    "for i in range(0, len(text) - maxlen, step):\n",
    "    sentences.append(text[i: i + maxlen])\n",
    "    next_chars.append(text[i + maxlen])\n",
    "print('nb sequences:', len(sentences))"
   ]
  },
  {
   "cell_type": "code",
   "execution_count": 18,
   "metadata": {},
   "outputs": [
    {
     "name": "stdout",
     "output_type": "stream",
     "text": [
      "Vectorization...\n",
      "...Vectorization Finished\n"
     ]
    }
   ],
   "source": [
    "print('Vectorization...')\n",
    "X = np.zeros((len(sentences), maxlen, len(chars)), dtype=np.bool)\n",
    "y = np.zeros((len(sentences), len(chars)), dtype=np.bool)\n",
    "for i, sentence in enumerate(sentences):\n",
    "    for t, char in enumerate(sentence):\n",
    "        X[i, t, char_indices[char]] = 1\n",
    "    y[i, char_indices[next_chars[i]]] = 1\n",
    "    \n",
    "print(\"...Vectorization Finished\")"
   ]
  },
  {
   "cell_type": "code",
   "execution_count": 19,
   "metadata": {},
   "outputs": [
    {
     "name": "stdout",
     "output_type": "stream",
     "text": [
      "Build model...\n",
      "...Model Built\n"
     ]
    }
   ],
   "source": [
    "# build the model: a single LSTM\n",
    "print('Build model...')\n",
    "model = Sequential()\n",
    "model.add(LSTM(128, input_shape=(maxlen, len(chars))))\n",
    "model.add(Dense(len(chars)))\n",
    "model.add(Activation('softmax'))\n",
    "print(\"...Model Built\")"
   ]
  },
  {
   "cell_type": "code",
   "execution_count": 20,
   "metadata": {},
   "outputs": [
    {
     "name": "stdout",
     "output_type": "stream",
     "text": [
      "_________________________________________________________________\n",
      "Layer (type)                 Output Shape              Param #   \n",
      "=================================================================\n",
      "lstm_1 (LSTM)                (None, 128)               122880    \n",
      "_________________________________________________________________\n",
      "dense_1 (Dense)              (None, 111)               14319     \n",
      "_________________________________________________________________\n",
      "activation_1 (Activation)    (None, 111)               0         \n",
      "=================================================================\n",
      "Total params: 137,199.0\n",
      "Trainable params: 137,199.0\n",
      "Non-trainable params: 0.0\n",
      "_________________________________________________________________\n"
     ]
    }
   ],
   "source": [
    "optimizer = RMSprop(lr=0.01)\n",
    "model.compile(loss='categorical_crossentropy', optimizer=optimizer)\n",
    "model.summary()"
   ]
  },
  {
   "cell_type": "code",
   "execution_count": 21,
   "metadata": {
    "collapsed": true
   },
   "outputs": [],
   "source": [
    "def sample(preds, temperature=1.0):\n",
    "    # helper function to sample an index from a probability array\n",
    "    preds = np.asarray(preds).astype('float64')\n",
    "    preds = np.log(preds) / temperature\n",
    "    exp_preds = np.exp(preds)\n",
    "    preds = exp_preds / np.sum(exp_preds)\n",
    "    probas = np.random.multinomial(1, preds, 1)\n",
    "    return np.argmax(probas)"
   ]
  },
  {
   "cell_type": "code",
   "execution_count": 22,
   "metadata": {},
   "outputs": [
    {
     "name": "stdout",
     "output_type": "stream",
     "text": [
      "5508\n"
     ]
    },
    {
     "data": {
      "text/plain": [
       "['Tinta de Toro: Ripe aromas of fig, black',\n",
       " 'Tinta de Toro: Deep, dense and pure from',\n",
       " 'Tinta de Toro: Lush cedary black-fruit a',\n",
       " 'Friulano: Elegance, complexity and struc',\n",
       " 'Tannat: This wine is in peak condition. ']"
      ]
     },
     "execution_count": 22,
     "metadata": {},
     "output_type": "execute_result"
    }
   ],
   "source": [
    "seed_lst = []\n",
    "for seed in list(variety_text):\n",
    "    seed_lst.append(seed[:maxlen])\n",
    "print(len(seed_lst))\n",
    "seed_lst[:5]"
   ]
  },
  {
   "cell_type": "code",
   "execution_count": 23,
   "metadata": {},
   "outputs": [
    {
     "data": {
      "text/plain": [
       "'Cabernet Sauvignon-Shiraz: This blend of'"
      ]
     },
     "execution_count": 23,
     "metadata": {},
     "output_type": "execute_result"
    }
   ],
   "source": [
    "rand_generator = np.random.randint((len(seed_lst)-1))\n",
    "seed_lst[rand_generator]"
   ]
  },
  {
   "cell_type": "code",
   "execution_count": 24,
   "metadata": {
    "collapsed": true
   },
   "outputs": [],
   "source": [
    "board = TensorBoard()"
   ]
  },
  {
   "cell_type": "code",
   "execution_count": 28,
   "metadata": {
    "scrolled": false
   },
   "outputs": [
    {
     "name": "stdout",
     "output_type": "stream",
     "text": [
      "\n",
      "--------------------------------------------------\n",
      "Iteration 0\n",
      "Epoch 1/1\n",
      "463138/463138 [==============================] - 339s - loss: 1.2910   \n",
      "\n",
      "----- diversity: 0.2\n",
      "----- Generating with seed: \"Nero d'Avola: From the Alcamo area of we\"\n",
      "Nero d'Avola: From the Alcamo area of wes is a structure and a soft and spice and spice and cherry and spice and spice and spice and chewy and spice and spice and cherry and spice and cherry and cherry and citrus and spice. The wine is supple and spice and chewy and spice and chewy and spice and like and spice and spice and spice and spice and cherry flavors. The bright and chewy and chewy and chewy and chewy and spice and a bit the fin\n",
      "\n",
      "----- diversity: 0.5\n",
      "----- Generating with seed: \"Nero d'Avola: From the Alcamo area of we\"\n",
      "Nero d'Avola: From the Alcamo area of weish is crushed berry and a wine of and a soft notes of cherry, cherry and berry flavors of apple fruit and dry and cherry and subtle flavors of cherry and tannins, with a tannins. The black fruit fruit and a delicious and texture is flavor, this is a dark wine. The palate is tannins and suppert and chewy and lead and plenty of black fruit and subtle and a touch of toast and citrus and rich and che\n",
      "\n",
      "----- diversity: 1.0\n",
      "----- Generating with seed: \"Nero d'Avola: From the Alcamo area of we\"\n",
      "Nero d'Avola: From the Alcamo area of werry and set of broom of honey. In the mibered mavront and easy green structure, with sothis acids of apricot, thin cherry and barrel with himpotenting, it, are tannins on the nose, brenbes with be heaved parttiness of tar all flavor and tastes lotas Veont up it complexity and vibrant stade, with a soft, showing. Primiti is an histeenty or nose. Iund: yalat the tyCarse aged sweet, vanilla. This is \n",
      "\n",
      "----- diversity: 1.2\n",
      "----- Generating with seed: \"Nero d'Avola: From the Alcamo area of we\"\n",
      "Nero d'Avola: From the Alcamo area of wean also compingly it's hints of chewy rich and characteris of wine, mettly-the atheccomial tobacco, bright fruit, tastines, taunight flownoys pise demenve vintage-More. Tintus brivege. low Blonn of veat dony istest fin. Prigit delicious and Springus leon, and chewy making air's Sairmerip sweet nose of tkin Monte than sorc melgent the ripe. Feers tannins ribbeal driven the St texth veny some big co\n",
      "\n",
      "--------------------------------------------------\n",
      "Iteration 1\n",
      "Epoch 1/1\n",
      "463138/463138 [==============================] - 337s - loss: 1.2357   \n",
      "\n",
      "----- diversity: 0.2\n",
      "----- Generating with seed: \"Petite Sirah: Shows the dry astringency,\"\n",
      "Petite Sirah: Shows the dry astringency,mplexity and a little balanced with a bit to the finish. Pinot Grigi: is a bit to the finish. Pinot Grigi: the acidit"
     ]
    },
    {
     "name": "stderr",
     "output_type": "stream",
     "text": [
      "/home/adamszabunio/anaconda3/envs/dl/lib/python3.6/site-packages/ipykernel_launcher.py:4: RuntimeWarning: divide by zero encountered in log\n",
      "  after removing the cwd from sys.path.\n"
     ]
    },
    {
     "name": "stdout",
     "output_type": "stream",
     "text": [
      "y and a bit the wine and a soft, but it is a bit the finish. Pinot Grigi: The wine is a soft, and a soft, and a soft and cherry and cherry and chocolate and cherry, blackberry and cherry and citrus and chocolate. The wine is a bit the nose of leather and apricots and cherry and cher\n",
      "\n",
      "----- diversity: 0.5\n",
      "----- Generating with seed: \"Petite Sirah: Shows the dry astringency,\"\n",
      "Petite Sirah: Shows the dry astringency,ry, fruit and spice and cherry and cherry, chocolate flavors are its and grapefruit and blackberry, chocolated wine, with a touch of chocolate, peach and red blackberry, chocolate and cherry, peach and cherry flavors. The black currants, blackberry, blackberry and blackberry tones and eleganced, it has a clean richness aromas of cherry, blackberry, blackberry and chocolate, smoke, with a densely b\n",
      "\n",
      "----- diversity: 1.0\n",
      "----- Generating with seed: \"Petite Sirah: Shows the dry astringency,\"\n",
      "Petite Sirah: Shows the dry astringency,ut like it's a surerry or vineyards of herbs. Drink firm and run its honerries juicy texture, slight and delicioas. Pinot Merlfut or02 Boppowed with. The wine is denerout five as a fit a big, clenned chocolate and tastes or most grars, the flavors of smooth. undergreen to swood acidity. Grenache: This grapeferly Gentrale retasy tannic noanta. Laus tangerine gunismeling soor the Grenga, offreshing \n",
      "\n",
      "----- diversity: 1.2\n",
      "----- Generating with seed: \"Petite Sirah: Shows the dry astringency,\"\n",
      "Petite Sirah: Shows the dry astringency,open up fively apple, rak skin acidity. Dopiniate: love acidity '0z gradnes colu Italiess graping typyieya's for beat charact, calave spoun haff, caramel and curras, emooal flavors it with creamy in led berry. of slight, raspberries, chocolate, flavors of notema appect and nectarine notes tannins of the nose of ités overbolds. God, with pasta with vanilonscenc blend to has donsix firmsfully its to\n",
      "\n",
      "--------------------------------------------------\n",
      "Iteration 2\n",
      "Epoch 1/1\n",
      "463138/463138 [==============================] - 348s - loss: 1.2072   \n",
      "\n",
      "----- diversity: 0.2\n",
      "----- Generating with seed: \"Nerello Mascalese: Aromas of red berry, \"\n",
      "Nerello Mascalese: Aromas of red berry,  the palate is a structured wine with a soft, and the wine is the wine is the wine is a fine structure that shows a soft and some offers a lot of complex and a soft, complex and saline and a soft, saline and a bit the wine is a soft, this is a structured wine with a soft and some offers a bit a soft and tannins and a soft and a soft, some offers toast and a soft, and the wine is a soft, this is a \n",
      "\n",
      "----- diversity: 0.5\n",
      "----- Generating with seed: \"Nerello Mascalese: Aromas of red berry, \"\n",
      "Nerello Mascalese: Aromas of red berry, long of style followed by some beer the wine has a strong and a touch of a structured wine will with a sure of honey and a long, this is a great this shows the finish is the blackberry and vanilla, black fruit and blackberry and apricots. It shows black fruit flavors, with a clean wine offers than tannins a core the finish. It has a medium-bodied berry and cola, leather and crisp acidity. Drink no\n",
      "\n",
      "----- diversity: 1.0\n",
      "----- Generating with seed: \"Nerello Mascalese: Aromas of red berry, \"\n",
      "Nerello Mascalese: Aromas of red berry, w grape the gom s dried wine that rek-inthe both righ ra, cassis of the chily peachne. St-jaéra: offers with aromas of saloucaly acidity. Drink now, Prosecto lent of structure and accenteline aromas deksipesce. Turns green character, nose of cured cherry length green, an, dryys bayin and plenty cont shows heavy a dast dusty. It's barbecule white per harmon, forphalive it are a o Chenin inimilly co\n",
      "\n",
      "----- diversity: 1.2\n",
      "----- Generating with seed: \"Nerello Mascalese: Aromas of red berry, \"\n",
      "Nerello Mascalese: Aromas of red berry, minatiol up , im filpleaute. This shows tannins nacying citrus, lingle lightness all prutt sages. Meritage:  basic tannins. Becall tru bepress and sominuch, dark  apple with chocolaty with lime in mivent of jamm fellowarp langs flavors and aromas of grietiness brine. This swestulity. The yellowing has. Co not of whise's flavor, feel and portis full-bodied, on this feels sun tropical blumbars, blac\n",
      "\n",
      "--------------------------------------------------\n",
      "Iteration 3\n",
      "Epoch 1/1\n",
      "463138/463138 [==============================] - 354s - loss: 1.1879   \n",
      "\n",
      "----- diversity: 0.2\n",
      "----- Generating with seed: \"Chardonnay: There's lots of zesty acidit\"\n",
      "Chardonnay: There's lots of zesty aciditk currant and black currants and cherry, black currant and black currant and cherry and black currant and cherry and black currant and black currant and fresh and sweet and barrel and soft and a soft and some on the nose. There is a soft and a soft and soft, but the wine is the wine is soft, but the wine is a bit a sharp and the wine is structured with a soft, strawberry and black currant and cher\n",
      "\n",
      "----- diversity: 0.5\n",
      "----- Generating with seed: \"Chardonnay: There's lots of zesty acidit\"\n",
      "Chardonnay: There's lots of zesty aciditry and fruit and nose and while the well with a soft and soft, barrel and spicy and oak. The palate is tongeep, with a light and red berry flavors and high and rich and strike green, with the wine needs to delivers an many and rich tannins that also there's a thick and on the finish. There's a powerful and structure and mouth come of the wine with a soft, clean and a thick than the wine is delicat\n",
      "\n",
      "----- diversity: 1.0\n",
      "----- Generating with seed: \"Chardonnay: There's lots of zesty acidit\"\n",
      "Chardonnay: There's lots of zesty acidite too mass what everythit at fairly tannies. P ripes crisp and dark notes. Tin character. Marhan hight liwe Coffee and toog simtle, with a thicks. Viura: This wine with eved and ooes bouquet cold packed whise its deesime sweet. It has a pure pure Tow-1f Thoftes riberacted earthy aromas of currine skeam, bacon, toast and blendan moment earthy, sweet closes that is meals suggesting acidity. The wine\n",
      "\n",
      "----- diversity: 1.2\n",
      "----- Generating with seed: \"Chardonnay: There's lots of zesty acidit\"\n",
      "Chardonnay: There's lots of zesty acidit is slightly darkiness. It lave, while the cuts wand, ripe but chewive with regalls un terh nosure andtillard bread. There sulien, earthy, there, it saveral . There's a clean esrze-thary all emortize to crisp 2015. It has cike and hints of kipe melolhane. This closp. A green . Busnical dafteling seven of Tales black fruit flavors. The blackberry and Pinotage, Chascep from Vingo wery. Chandoet And \n",
      "\n",
      "--------------------------------------------------\n",
      "Iteration 4\n",
      "Epoch 1/1\n",
      "463138/463138 [==============================] - 355s - loss: 1.1733   \n",
      "\n",
      "----- diversity: 0.2\n",
      "----- Generating with seed: \"Agiorgitiko: This red starts with black \"\n",
      "Agiorgitiko: This red starts with black the finish of the wine that is a structured and the palate of the palate and a bit a structured and the beauty and the palate offers an a bit a little palate of the wine that will acidity and a structured and toast and spicy and creamy and toasted blackberry and citrus and chocolate and citrus and citrus and citrus and citrus and blackberry and citrus and blackberry and citrus and cola and peach a\n",
      "\n",
      "----- diversity: 0.5\n",
      "----- Generating with seed: \"Agiorgitiko: This red starts with black \"\n",
      "Agiorgitiko: This red starts with black nd a fresh and toasted and the palate of cocoa and cherry and blackberry and cool note of veant flavors of chocolate and plum and coffee flavors. Cabernet-style White Blend: This is a bit berry fruit tones and fresh blackberry and note of the palate, with salted and tastes and toasted and complexity and well make the south. The palate is tannic, but with an intense and toasted finish. The tannins \n",
      "\n",
      "----- diversity: 1.0\n",
      "----- Generating with seed: \"Agiorgitiko: This red starts with black \"\n",
      "Agiorgitiko: This red starts with black are sweet from Mo wide to the palate with and feel vintage. It's a bit it comblo or the cestride. oxidied, this of cased-pork for threate are tobacco and saliel ripe plum and vilns followed by dalk up an untome to a spity Mersonel and ample fion exfuccuse and a roasted for there inclear. Marsanne: Pardense is on the cassis price that's envityle, but there and s,th. The wine productully seagely tex\n",
      "\n",
      "----- diversity: 1.2\n",
      "----- Generating with seed: \"Agiorgitiko: This red starts with black \"\n",
      "Agiorgitiko: This red starts with black ture, likable, butstan, ructe Itulto and a lively and ta lowberfus 1ivery. Thard fruit note and mint st. Notearth regests, repressegne. Drieus upati that. sweet cola. Limiting with hint oakes. Civit and enger. Very polished in the mouth azy Mittullian and easilile dakes. Alotated, regema coramling the nute over or Greco, Sauvignon-winebs plush tones and much of finish. The turn. A burnt propetural\n",
      "\n",
      "--------------------------------------------------\n",
      "Iteration 5\n",
      "Epoch 1/1\n",
      "463138/463138 [==============================] - 344s - loss: 1.1650   \n",
      "\n",
      "----- diversity: 0.2\n",
      "----- Generating with seed: \"Pinot Nero: Pretty flavors of forest ber\"\n",
      "Pinot Nero: Pretty flavors of forest ber to the bouquet of cherry fruits and citrus and citrus and chocolate and citrus and apple and citrus and citrus and plum and citrus and chocolate flavors and citrus and citrus, apple and citrus and citrus and chocolate flavors and a touch of raspberry and peach and citrus and citrus and chocolate flavors and a structure that is a powerful and structure and dry and structure in the mouth with a str\n",
      "\n",
      "----- diversity: 0.5\n",
      "----- Generating with seed: \"Pinot Nero: Pretty flavors of forest ber\"\n",
      "Pinot Nero: Pretty flavors of forest beructure and a concentrated wine is a spicy pasture that is a rich with a touch of pineapple and a bit of acidity. It has a simple spice and citrus, but fresh spice and citrus and chocolate fruit and a fruit flavors of structured of the close. Petit Verdot: This is a concentrated Sanyinant that is a spicy and leather and citrus, ripe apple and blackberry flavors and toast, blackberry and chocolate a\n",
      "\n",
      "----- diversity: 1.0\n",
      "----- Generating with seed: \"Pinot Nero: Pretty flavors of forest ber\"\n",
      "Pinot Nero: Pretty flavors of forest bernd cheriy compocents seem the touch of cilranic Mencho casted furny, hearts sage of flower to the acrissing habenness of fruit flavors. Aglianico: Mascarse red wine with a bit or a toast, crisp, melon aromas. A dense was lamb the mouth Modentfrong tering a crisp orto much along it verveses. Portuguese White: The ripe long tannins and melon and ripe lemon jammy, this and everything however colint s\n",
      "\n",
      "----- diversity: 1.2\n",
      "----- Generating with seed: \"Pinot Nero: Pretty flavors of forest ber\"\n",
      "Pinot Nero: Pretty flavors of forest berhould pasth and cooke for  if olicuse, wheffs crisp, lusic and color and woodinglyed bodull feel lauss its fully, which in sweet crerc's sleek wine. Ssmamply, note, flowers, spice aromas like sweet zest, peach and yellow leeter to mask the nose and fresh strawberry, citrus and custanf grass. It'pe of pair fors, hage of mature play and bitter berriend tonat. easpy, ripe friendly, histerlioes. Bort \n",
      "\n",
      "--------------------------------------------------\n",
      "Iteration 6\n",
      "Epoch 1/1\n",
      "463138/463138 [==============================] - 334s - loss: 1.1583   \n",
      "\n",
      "----- diversity: 0.2\n",
      "----- Generating with seed: \"White Blend: A palate-pleasing, off-dry \"\n",
      "White Blend: A palate-pleasing, off-dry a smooth and the wine is a soft and complex and structure. The wine is a soft and touch of cola and cola and red cherry and citrus and citrus and citrus and pear, and complex and spicy and a soft and touches of spice. It is a soft and structure. The wine is a bit the wine is some oak and creamy and complex seems to the wine is a soft and the wine is some oak and creamy wine. The wine is a soft and\n",
      "\n",
      "----- diversity: 0.5\n",
      "----- Generating with seed: \"White Blend: A palate-pleasing, off-dry \"\n",
      "White Blend: A palate-pleasing, off-dry  leather and cola and herbal scents. The palate is start and starts it a smooth and oak and stard and herb and polished sandality wine for seems that is a spicy tone and toasted wine. The flavors of fruit, smoky and spice. Screwcap. St. Laurent: This is a soft, thin this wine is the finish is the wine has a clean fruit. The wine is a bright and strawberry and chocolate. This is a slightly bitter w\n",
      "\n",
      "----- diversity: 1.0\n",
      "----- Generating with seed: \"White Blend: A palate-pleasing, off-dry \"\n",
      "White Blend: A palate-pleasing, off-dry ine, with flavors of aged combine with a new forward, has a controllass. netty, acrossive feel. Blaufrs, texture. There is a spity. Theady pome dean over Nectly a fruit-Prosecco adding thick, it's a tight, Bgidried sweet dried cherry, frimaling . Nonvina Agelho more de the mouthing this lor, and come aromas with tannins, smoky but havol sugary tou frosty acidity on the ean to a play of Winetce. Ca\n",
      "\n",
      "----- diversity: 1.2\n",
      "----- Generating with seed: \"White Blend: A palate-pleasing, off-dry \"\n",
      "White Blend: A palate-pleasing, off-dry ryearle wine soon., why in ripe on the palate. Aromas sensers. ised qua, produce the fruits, with earth whi di add. Moust: really fruit-while, the tannin. It's balanced geet. Finishes drieh herb are juicy of finality on the finlnoy, with juxty, flavors of with oak implaciness, and lend of prune. Blanc-body, intervani waving with a nails thind spicaus 2002% fit HolemakVe more are just tart blacker \n",
      "\n",
      "--------------------------------------------------\n",
      "Iteration 7\n",
      "Epoch 1/1\n",
      "463138/463138 [==============================] - 334s - loss: 1.1519   \n",
      "\n",
      "----- diversity: 0.2\n",
      "----- Generating with seed: \"Zinfandel: Very aromatic, with an elusiv\"\n",
      "Zinfandel: Very aromatic, with an elusivand pear and a fresh and crisp and herbal and cherry and cherry and chocolate and a soft and brings of cherry and a hint of cherry and cherry fruit and cola, white pepper and cherry flavors and a soft and soft and some of a bit of a slightly a good and fresh and crisp and toasted and a silky and some of the palate of the berry and cherry and black fruit and coffee and cherry fruit and a soft and t\n",
      "\n",
      "----- diversity: 0.5\n",
      "----- Generating with seed: \"Zinfandel: Very aromatic, with an elusiv\"\n",
      "Zinfandel: Very aromatic, with an elusivhe balance and balanced with a finested component and mouthfeel of this this is a beautifully distinctive in fresh wine. It's one of brings of a wine that gives this is a wine that is hars of cola and red fruit and oaky, with concentration of beew, with a finely past of this wine, fresh and red cherry and herb and cherry and lime and cola, while the wine is rounded black fruit and cherry, honey an\n",
      "\n",
      "----- diversity: 1.0\n",
      "----- Generating with seed: \"Zinfandel: Very aromatic, with an elusiv\"\n",
      "Zinfandel: Very aromatic, with an elusivd tangy custines and spice confinaborn is of best peachy of tobacco and crisp nose that offers toast flavari of the Pugal of tart the berries, rosé, complete and peach and acidity, deals fort. A little get this deeps into the notes of black fruit and exotic fruits. This hardy. The raw and consistent Although it's bgmally complexity of black licol that west that  corn shy sweetness and slightly min\n",
      "\n",
      "----- diversity: 1.2\n",
      "----- Generating with seed: \"Zinfandel: Very aromatic, with an elusiv\"\n",
      "Zinfandel: Very aromatic, with an elusiveral and , with pear, apple, apricot and chocolat. Thest ward, withoutly aggraines the the Calinet by hist a brac. Berry, great texture aromas is leaved dain. The satisfiam by fully is halso Cogeton, Arrise, bright apple flavor core cavars. Roussanne an open, withous-rainin middeap in leam, zesty tenge, this effax is brillittly perfumly intedry. Pinot Grigio blinks of Thete-concercimay reley to a \n",
      "\n",
      "--------------------------------------------------\n",
      "Iteration 8\n",
      "Epoch 1/1\n",
      "463138/463138 [==============================] - 334s - loss: 1.1486   \n",
      "\n",
      "----- diversity: 0.2\n",
      "----- Generating with seed: \"Portuguese Red: A fresh, ripe red wine, \"\n"
     ]
    },
    {
     "name": "stdout",
     "output_type": "stream",
     "text": [
      "Portuguese Red: A fresh, ripe red wine, wine for a wine that is a bright and concentrated fruit and a structured wine with chocolate and coconut and concentrated or perfumed by a bit the wine is structured wine with a soft and fresh and a full of chocolate and candied fruit and cherry and caramel. The palate is perfumed and tannins of berry and caramel. The palate is full and earthy and ripe and complex, with a bit the wine is full of p\n",
      "\n",
      "----- diversity: 0.5\n",
      "----- Generating with seed: \"Portuguese Red: A fresh, ripe red wine, \"\n",
      "Portuguese Red: A fresh, ripe red wine, each and chocolate. The palate is full and up the nose, it's a based by fresh acidity and a beautiful and the wine offers a bit complex, with fruit and mature and crisp and pure with concentral that that is a bright and full of raspberry and fruit. The wine is it to the close. The finish is perfect the form flavors of caramely and cherry and honey and lemon and green apple and caramel. The wine is\n",
      "\n",
      "----- diversity: 1.0\n",
      "----- Generating with seed: \"Portuguese Red: A fresh, ripe red wine, \"\n",
      "Portuguese Red: A fresh, ripe red wine,  fruit with tannins on the finish, ultry great light finish, juicy, rich earthy. A geeve, heavy of but ordage, mocharands drive on the palate in powerturnicx dusty polished pure but welling puach. Roussanne with oak flavors lmjendced and notes of peach and berry and savory orange, with very heavy open drop's zesty was has sabades. grach. barcert with ripe on this finish. An certain orange aromas o\n",
      "\n",
      "----- diversity: 1.2\n",
      "----- Generating with seed: \"Portuguese Red: A fresh, ripe red wine, \"\n",
      "Portuguese Red: A fresh, ripe red wine, f citrus. Almost and aspecturity from Viarella Ro-puapor: There is exacon Imports still Sicile Fining home any cardior aromas manns and mosseed laned. Gew-exorroasting runy nosu Very lemonious, along with finish. The blackberry and herbs as really, fached by Torod sugul through to moon, with some me Matainy, with right still than dense Mannaped Blanc. Syrahy and a costla nol fullowarish, falls fro\n",
      "\n",
      "--------------------------------------------------\n",
      "Iteration 9\n",
      "Epoch 1/1\n",
      "463138/463138 [==============================] - 335s - loss: 1.1454   \n",
      "\n",
      "----- diversity: 0.2\n",
      "----- Generating with seed: \"Albariño: Tropical fruit, apple and citr\"\n",
      "Albariño: Tropical fruit, apple and citrm the wine is fresh and fresh and texture and a fine wine. It is firm and the wine is in the fruit is a smooth and fresh and complex and toast and tangy flavors of cherry and citrus and a smooth and bright and flavors of chocolate and caramel and a starts of black fruit and peach and smooth, this is a structure and the wine is a delicious and tannins that is a simple and smooth and complexity and \n",
      "\n",
      "----- diversity: 0.5\n",
      "----- Generating with seed: \"Albariño: Tropical fruit, apple and citr\"\n",
      "Albariño: Tropical fruit, apple and citrfruit flavors of chocolate and peach and sweet mineral and a bit will chewy and toast flavors and lightly carry of citrus and green and smooth and fresh but with this is a wine with its crisp and sweet and fruit fruit aromas. The wine is tangy barritard and mineral to the fruit and soft, with spicy, citrus and a white and an aged wine that shows soft and has a delicious and Bordeaux by but warm an\n",
      "\n",
      "----- diversity: 1.0\n",
      "----- Generating with seed: \"Albariño: Tropical fruit, apple and citr\"\n",
      "Albariño: Tropical fruit, apple and citrd fruit at everiness. It is tongues. ported and almowd, concentrated, supple, Cabernot Blend: Garon Mouncted pairsting fruit. It's ripe, fimple texture and yellow Pinnen Nound Val Paird cox tangersed wine. Grenache Blanc: Dark wine, many scent, the wine. summer, with lightly notaliness layed up aromally high berrose. This is deeply gramy mendound Greance-plenty of brimscitmely honeynettys finishin\n",
      "\n",
      "----- diversity: 1.2\n",
      "----- Generating with seed: \"Albariño: Tropical fruit, apple and citr\"\n",
      "Albariño: Tropical fruit, apple and citrg. Showite is juicy, with sweet, it. agive jammy-dul Tanner pixtured wine. Imported by five ondigrans rotslows. Muscat: This isevita's soft consume. Pegiant-10% nenpely. A wine for has astring and polished with a  2015en, hennin sipperdhague, feels thanks orthecionus front and all ambshy as 0rely vanilla. varroar. Long from 2013ifen, pare was ripo groom fine, sivill perfume berry dass ripe flavors\n"
     ]
    }
   ],
   "source": [
    "# train the model, output generated text after each iteration\n",
    "for iteration in range(10):\n",
    "    print()\n",
    "    print('-' * 50)\n",
    "    print('Iteration', iteration)\n",
    "    model.fit(X, y,\n",
    "              batch_size=128,\n",
    "              epochs=1,\n",
    "              callbacks=[board])\n",
    "    \n",
    "    rand_generator = np.random.randint((len(seed_lst)-1))\n",
    "\n",
    "    for diversity in [0.2, 0.5, 1.0, 1.2]:\n",
    "        print()\n",
    "        print('----- diversity:', diversity)\n",
    "\n",
    "        generated = seed_lst[rand_generator]\n",
    "        print('----- Generating with seed: \"' + generated + '\"')\n",
    "        sys.stdout.write(generated)\n",
    "\n",
    "        for i in range(400):\n",
    "            x = np.zeros((1, maxlen, len(chars)))\n",
    "            for t, char in enumerate(sentence):\n",
    "                x[0, t, char_indices[char]] = 1.\n",
    "\n",
    "            preds = model.predict(x, verbose=0)[0]\n",
    "            next_index = sample(preds, diversity)\n",
    "            next_char = indices_char[next_index]\n",
    "\n",
    "            generated += next_char\n",
    "            sentence = sentence[1:] + next_char\n",
    "\n",
    "            sys.stdout.write(next_char)\n",
    "            sys.stdout.flush()\n",
    "        print()"
   ]
  },
  {
   "cell_type": "code",
   "execution_count": null,
   "metadata": {
    "scrolled": false
   },
   "outputs": [
    {
     "name": "stdout",
     "output_type": "stream",
     "text": [
      "\n",
      "--------------------------------------------------\n",
      "Iteration 0\n",
      "Epoch 1/1\n",
      "463138/463138 [==============================] - 332s - loss: 1.1445   \n",
      "\n",
      "----- diversity: 0.2\n",
      "----- Generating with seed: \"Port: A delicious, easy wine that floats\"\n",
      "Port: A delicious, easy wine that floats of red fruit and chocolate. The finish is refreshing and st"
     ]
    },
    {
     "name": "stderr",
     "output_type": "stream",
     "text": [
      "/home/adamszabunio/anaconda3/envs/dl/lib/python3.6/site-packages/ipykernel_launcher.py:4: RuntimeWarning: divide by zero encountered in log\n",
      "  after removing the cwd from sys.path.\n"
     ]
    },
    {
     "name": "stdout",
     "output_type": "stream",
     "text": [
      "yle wine with a blend of the Toro't will this is a bit lively but with a structured wine with a blend of the Torrose is a beautiful and style of the Torrose, with a structured wine is a little style of the Torrose is a bit beautifully and structure. The backbone and black fruit and a clean and black fruit and blackberry flavors and stone \n",
      "\n",
      "----- diversity: 0.5\n",
      "----- Generating with seed: \"Port: A delicious, easy wine that floats\"\n",
      "Port: A delicious, easy wine that floatsfruit, lemon lime kiph. Grenache: Panisa and Sauvignon and style, this is a touch of this wine with orange and a good color and intense and chocolate. It has an abonession to a forcess, soft style. Give thefreco is a clean, and refreshed black fruit, lemon and peach, blackberry fruit and black fruit. It's a der a beautiful wine shows a vanilla and fruity and blossom, a fine style what is the poten\n",
      "\n",
      "----- diversity: 1.0\n",
      "----- Generating with seed: \"Port: A delicious, easy wine that floats\"\n",
      "Port: A delicious, easy wine that floatstial din wine with llight tonge. Magraht juicy, part pure unifaied wine and a burst, heavy flavors of spice and honeysupty, ripe, almond by close. Malbec: Verfably amonted bouquet ride. It will inswa, this wine is dusty, this is slightly crisp and a  Marsanne extracted in welt pentrannted pastical Pinot Blanc, an intenting and this blending very bright as 100% Marartia lenple, complex otherful few\n",
      "\n",
      "----- diversity: 1.2\n",
      "----- Generating with seed: \"Port: A delicious, easy wine that floats\"\n",
      "Port: A delicious, easy wine that floats Barrel need 200S-founts, this is a balbiged palate offers quickly flagshet. Fhentus, forge opens black flecol textaned, ripe cherry, honey xicangelif'dle plump notes dug, red cherry. bouud Shiraz is this pork thing, which pear with glenting, spicy and cherries, black cunrimlested black-fruit and cassis. The glass go dolwaldns. Muly blossom and citrus, while this wine chity. Hesb. Ried chocolate o\n",
      "\n",
      "--------------------------------------------------\n",
      "Iteration 1\n",
      "Epoch 1/1\n",
      "463138/463138 [==============================] - 334s - loss: 1.1428   \n",
      "\n",
      "----- diversity: 0.2\n",
      "----- Generating with seed: \"Prosecco: Although this Prosecco Brut is\"\n",
      "Prosecco: Although this Prosecco Brut isn the finish. The wine is a touch of color and a structure and a streak of a concentrated and soft, with a touch of a crisp and sweet and soft, while the wine is a delivers a touch of corrite and a straightforward fruit and a streak of a clean and the wine is a streak of the back and complexity and a touch of cola and composent and a fine wine with a touch of concentrated and sweet and fruity, whi\n",
      "\n",
      "----- diversity: 0.5\n",
      "----- Generating with seed: \"Prosecco: Although this Prosecco Brut is\"\n",
      "Prosecco: Although this Prosecco Brut isle the finish is smooth, and with an easy but this is a streak of a little tannins and a deep to the finish offers a bit a dark and still more chewy component and sweetness and tannic and stone finish and steel and a fine alongside an although the palate is a deliver all made for a intense wine is the wine that is a touch of smooth, minerality and toast and toasty pineapple and coffee, while the f\n",
      "\n",
      "----- diversity: 1.0\n",
      "----- Generating with seed: \"Prosecco: Although this Prosecco Brut is\"\n",
      "Prosecco: Although this Prosecco Brut islavors of dry, nectarine and toasted and tropical fruit and rosero aromas of cassis and tobacco and a might p acids. The me, while the er-tight red for accent. Bordeaux-basicking eneys almost white fruits with jammy and : Bomgcitaling peach and reside and clove and fragrant and book. It's vibranc than loaded with supce and ripeness but ripe apple dreightuby the next notes incresity. telling of pit\n",
      "\n",
      "----- diversity: 1.2\n",
      "----- Generating with seed: \"Prosecco: Although this Prosecco Brut is\"\n",
      "Prosecco: Although this Prosecco Brut ishound notes. The palate ofner for roh from Ghiquelif, this also boise the fruit howed peor Genetbale Savory cherries, but offers oak ten and tarrarin here. Barberny sangees. Rosé: Rognes, Negroan with Falanbsly is red of Pair the grapech, richness give boastly pepperyapice, ripe fruit piuewaxs tooatan orange and mineal Mascalled to frasr it extra offery wine. Barbera: nuaty whut finish is brine. I\n",
      "\n",
      "--------------------------------------------------\n",
      "Iteration 2\n",
      "Epoch 1/1\n",
      "463138/463138 [==============================] - 333s - loss: 1.1415   \n",
      "\n",
      "----- diversity: 0.2\n",
      "----- Generating with seed: \"Nerello Mascalese: Made from Nerello Mas\"\n",
      "Nerello Mascalese: Made from Nerello Mast's soft, but the finish. The wine is a soft, and the wine is a soft, this is a bit of white peach and cola and crisp acidity. The wine is soft, soft, soft, soft and soft, with a soft and soft and complex on the finish. The wine is a soft, with a soft and soft, with a bit of white peach and candied fruits, but a soft, but shows a soft and some has a lingering and soft, with a continue to the palat\n",
      "\n",
      "----- diversity: 0.5\n",
      "----- Generating with seed: \"Nerello Mascalese: Made from Nerello Mas\"\n",
      "Nerello Mascalese: Made from Nerello Mase. Pinot Blanc: This is a round, and the wine is a fine wine that is a soft and a bit around shows a balanced acidity and previanic acidity. The finish with aromas of melon and celery and structure. It has a loads of color and overly a grabbby wine well wine and savory and red wine with continues the finish. Sauvignon: with a balk finish. The body is a complex and in a background and soft but it a\n",
      "\n",
      "----- diversity: 1.0\n",
      "----- Generating with seed: \"Nerello Mascalese: Made from Nerello Mas\"\n",
      "Nerello Mascalese: Made from Nerello Mas markanes, it's dry pruneh aromas of baking peach in weightion. This wine the mossippucity than balancive Grigio is berry no recoous up. The smelling on the freshness pow and vibrant fiano. Prosecco: delpred a full and larr a raidied and fall Dound new, with componted espressition, this wine clean reals some fruit lest old full-bodied and licoat and lpong. Best and fyrosello ago with soft on is fl\n",
      "\n",
      "----- diversity: 1.2\n",
      "----- Generating with seed: \"Nerello Mascalese: Made from Nerello Mas\"\n",
      "Nerello Mascalese: Made from Nerello Masint. Prignitese, Tannacca: Red per alongside Montenation afteroous-age you singerbake begin I. Valllera: Vanto with acidity it's only resin. Shiraz-Cabernet Sauvignon: Ver trumiguegriid, with boys with pretty, refasty,, crug notes of herbs. Drinking is some drierd fruited wine ti dams, marked by will-is a beautifully that on. Mougfonthe interescated sheve moa sor Petris com-thaly. An hackan pio la\n",
      "\n",
      "--------------------------------------------------\n",
      "Iteration 3\n",
      "Epoch 1/1\n",
      "463138/463138 [==============================] - 333s - loss: 1.1569   \n",
      "\n",
      "----- diversity: 0.2\n",
      "----- Generating with seed: \"Riesling: Off dry and fruity, this clean\"\n",
      "Riesling: Off dry and fruity, this cleans and perfumed by the finish. The finish is ripe apple and spice and honey and coffee and a smooth and ripe apple and black currant and cherry and cherry and cherry and cherry fruit and cherry and chocolate and cherry and cherry fruits and consistency that a beautifully tart and ripe and toast and cherry and cherry and cherry and cherry fruit and cherry and cherry and cherry and chocolate and coco\n",
      "\n",
      "----- diversity: 0.5\n",
      "----- Generating with seed: \"Riesling: Off dry and fruity, this clean\"\n",
      "Riesling: Off dry and fruity, this cleannut and good more paste and black curranin and black cherry and coconate and tobacco and citrus and rose and sweet and a little smooth rich and blackx ozmeness, black currant, blackberry and rustic fruit and fruit and characterize flavors with a long, ripe and ripe spice. It's a tangy, showing acidity on the palate, with a soft and crisp acids and spice. The fruit the wine is a touch of black cher\n",
      "\n",
      "----- diversity: 1.0\n",
      "----- Generating with seed: \"Riesling: Off dry and fruity, this clean\"\n",
      "Riesling: Off dry and fruity, this cleanry and gametildas. From doesn't terting a touch of characiness and nut perfume. Imported byu Melonice: aging Sauvignon and Shows fruit, make this is it's a proiner clarsy, neutral dark tannins and snees to water and give is a rich and herbal to a counteed acidity and a deep in acidity. It is ult into a concentration and backed by flopened by a mineral characterizy its mounish and flavors on the fi\n",
      "\n",
      "----- diversity: 1.2\n",
      "----- Generating with seed: \"Riesling: Off dry and fruity, this clean\"\n",
      "Riesling: Off dry and fruity, this cleannish. Greacoated strawberry and herb and culina., well, not firmly all til Pore. Carcoande: though, hury blackberry and nere. This gets a littly serve small hhow the peach and spice-textured wine. Savhorttude Shows grapefruit. Stude oily after sload and rubbery and a fine aromas dells appeal. Imported by Grenache Boamecy: The its wine the con where. Finishes it fermenco-best Fromdose-sike, tathe t\n",
      "\n",
      "--------------------------------------------------\n",
      "Iteration 5\n",
      "Epoch 1/1\n",
      "463138/463138 [==============================] - 334s - loss: 1.1441   \n",
      "\n",
      "----- diversity: 0.2\n",
      "----- Generating with seed: \"Touriga Nacional: A wine that brings out\"\n",
      "Touriga Nacional: A wine that brings outhe finish. There's a straightforwarinize and complexity and a smooth and tasty and a structure that is a smooth and smooth and structured wine that is a structure and fresh and complexity and a smooth and complexity and sweet and the flavors of almond and cherry fruits. The fruit is a smooth and sweet and a sugary wine that is a subtle and toasty and stone fruit and chocolate. The finish is surpri\n",
      "\n",
      "----- diversity: 0.5\n",
      "----- Generating with seed: \"Touriga Nacional: A wine that brings out\"\n",
      "Touriga Nacional: A wine that brings outsing the finish. The wine is a wine that shows a subtle side. It genristing a summer some honey and smoky and failly tasty and almond flavors with a standard structured and complexity to the less the palate with a smooth and fresh acidity, with soft, dry and tart tannins and the balance. Malbec-Merlot: Sweet and ripe flavors of toast, and richness and tangerine and citrus. Malbec-Merlot: This beef\n",
      "\n",
      "----- diversity: 1.0\n",
      "----- Generating with seed: \"Touriga Nacional: A wine that brings out\"\n",
      "Touriga Nacional: A wine that brings out. Sparkling spork. This is an easy, finish with sweet oily neeally bracty but finish and brambling for an level of black pepperitic less the finish. Syrah: Mourvèdre dry and seems the fruitly soat, thewnic, this is tarter, this can the palate is brildable thick and crisp, sweet, genero and floral acidity tast. Imported by As in flavors of acidity, its balance make this well wines. Pinot Gris: Borr\n",
      "\n",
      "----- diversity: 1.2\n",
      "----- Generating with seed: \"Touriga Nacional: A wine that brings out\"\n",
      "Touriga Nacional: A wine that brings outitage finish. In Fiam Bruss Grenache, Bially, this dostristing oak fromo Sauvignon Blanc. Pured Blend to the thas. Nero d'Avola, with cherry and fruity 201bens gollic, this wine style consverry is smoky and oak, with meaty viwile. beat has though alonbnt. A silk alroas with a set concentrater, fremge on to matulinu. Thereino and a touch of aup doeal, with smoky tart, it is silky burry peach. Mell \n",
      "\n",
      "--------------------------------------------------\n",
      "Iteration 6\n",
      "Epoch 1/1\n",
      "463138/463138 [==============================] - 334s - loss: 1.1491   \n",
      "\n",
      "----- diversity: 0.2\n",
      "----- Generating with seed: \"Viura: Heavy and waxy, and not all that \"\n",
      "Viura: Heavy and waxy, and not all that and an almond and peach and spice and spice and spice. The wine is soft, soft, showing a little structure and a soft and rich and smooth and rich and tannic and some spice and spice and plum and black fruits. It is soft, tannins and spice and plum and chocolate. The finish is rich and a soft and soft, the wine is soft, showing showing the palate is a soft, delicious and a clean wine that is a soft\n",
      "\n",
      "----- diversity: 0.5\n",
      "----- Generating with seed: \"Viura: Heavy and waxy, and not all that \"\n",
      "Viura: Heavy and waxy, and not all that , delicious a soft, heaviness that is should and structure and tones of cherry and chocolate. The palate is showing on the nose and lime. It has fresh acidity and bright acidity. The wine is soft, slightly ripe and cola, with flavors of yellow finiting to a mineral shet the co what soft on the palate. The wine with lemon zest and spice or character and plum and chocolate. This is a hint of apple, \n",
      "\n",
      "----- diversity: 1.0\n",
      "----- Generating with seed: \"Viura: Heavy and waxy, and not all that \"\n",
      "Viura: Heavy and waxy, and not all that plum, layearity. facks, drink now. The palate is driving soft and yellor red fruit dish mineral tannins that like rifer on homing on from an with midne gras flavors on the nose, and much aroma-vine. Imported by mouth onesitaming its made it is full to not melh Gamne, with flavors are such yellow finish. Fuothers in mint finish. It has fruitiness the bouquer the mightong tart low, to some mode ashi\n",
      "\n",
      "----- diversity: 1.2\n",
      "----- Generating with seed: \"Viura: Heavy and waxy, and not all that \"\n",
      "Viura: Heavy and waxy, and not all that es, shows quese and yourments aflice timebse-doksonges now. Genfufers da, progeyy. Finithes, blackberry and raspberries on the palate flower. first find flower, this woulden The file from Washtoy-turgi Add for full of ney hich tight white. shy classy. Power, eespecon of Grols the small clum. In tigl, the finessed simplea and juigy in it afrelosip selection of extracted and richly acidity oran clos\n",
      "\n",
      "--------------------------------------------------\n",
      "Iteration 7\n",
      "Epoch 1/1\n",
      "463138/463138 [==============================] - 333s - loss: 1.4552   \n",
      "\n",
      "----- diversity: 0.2\n",
      "----- Generating with seed: \"Red Blend: Simple and tart, this has gre\"\n",
      "Red Blend: Simple and tart, this has gree. The palate is some citrus and a structured and some tannins and a soft and complexity and the style of the finish. The wine is a style wine that tannic and some more fresh and creamy tannins and fresh and some style and a structure is a structured in the mouth with a soft, soft and style wine that is a structured in the mouth with a fine wine that is a style that shows the flavors of cola and c\n",
      "\n",
      "----- diversity: 0.5\n",
      "----- Generating with seed: \"Red Blend: Simple and tart, this has gre\"\n",
      "Red Blend: Simple and tart, this has greherry flavors and herbal peach and cherry fruit flavors and style, this is a start, this wine is strate and style wine for a hint of citrus and a complex and toasted floral and blackberry and spice. The wine is full and style of a soft, the wine is fresh, thick alto balanced with berry and cherry. It feels clean and crisp wine that it's fresh wine, but the wine was complexity, and also long and cr\n",
      "\n",
      "----- diversity: 1.0\n",
      "----- Generating with seed: \"Red Blend: Simple and tart, this has gre\"\n",
      "Red Blend: Simple and tart, this has greisp dried alcoholigled cherry. wine blass aromatics. Tannat: The bitoble everything. Nubn tinter'by tannins. Shows rich, up citricuy and spands of Surple the Porthy has complexity you mangelo in lime conteaul wine. Big, plenty, with a mocha-inve of Italy, this is a menthot, cool moderately freshness. Hard, and from on or grine and not on this you'd mouth best producty, burly, with sweet ripe note \n",
      "\n",
      "----- diversity: 1.2\n",
      "----- Generating with seed: \"Red Blend: Simple and tart, this has gre\"\n",
      "Red Blend: Simple and tart, this has greceal aftertaste. Torrontés: nanding and a Barmgasing vaade owite. An the Tempranillo Blend of fruity red fruit. Chentrablla in Muscot og, light ruby yellow fruit with dark wine. Tgetward, cheenilliber A his drink, with style. An aged Viura: A smooth, it ipcris wine, with a straity, rounded and tasty, though rest its spicerixs loaded with this well due the wans on and package frester-besus the wine\n",
      "\n",
      "--------------------------------------------------\n",
      "Iteration 8\n",
      "Epoch 1/1\n",
      "463138/463138 [==============================] - 333s - loss: 1.1858   \n",
      "\n",
      "----- diversity: 0.2\n",
      "----- Generating with seed: \"Monastrell: Tight aromas of cranberry an\"\n"
     ]
    },
    {
     "name": "stdout",
     "output_type": "stream",
     "text": [
      "Monastrell: Tight aromas of cranberry an from the style, with a slight to the finish. The palate is a delicious wine is the wine is the palate of tannins and the finish the wine is a delicious wine is a good Garnach. The finish is a structured and soft, this is a strong and a the tart and has a berry from Cabernet Sauvignon Blanc: This is a del, the finish is the fruit is a structured and a light acidity and a berry from fruit and the p\n",
      "\n",
      "----- diversity: 0.5\n",
      "----- Generating with seed: \"Monastrell: Tight aromas of cranberry an\"\n",
      "Monastrell: Tight aromas of cranberry analate offers and wood, the wine is tannic touch of tannins and ripe and light acidity and a good Bought to savory blackberry acidity. The wine has a del the spicy, this is a balanced tannins and pear and to the sweet tannins into the San at a politter the vineyards with the palate of cherry spice alongside berry, crisp acidity. It is a fine wine. It has a two a lot and bright tanning and on a fres\n",
      "\n",
      "----- diversity: 1.0\n",
      "----- Generating with seed: \"Monastrell: Tight aromas of cranberry an\"\n",
      "Monastrell: Tight aromas of cranberry anhes won't close. It makes mush, made bouquet that has more, with much intoge and countino, potcic suggest crisp, and astesu. It's boldse it huge, cranchese elerd. Gewer with at a yoeñd crispness. Ssmodts this toffee doesse adds of wild berries and wholsicely aromas of blackberry and fseque mil icul and linemy, this is flavor that as arenoage fresh cherries. It will spect Granner. Montepulciano: fw\n",
      "\n",
      "----- diversity: 1.2\n",
      "----- Generating with seed: \"Monastrell: Tight aromas of cranberry an\"\n",
      "Monastrell: Tight aromas of cranberry anect fore. Pinot Berng Gorky wine this lases. telliegs, scented blue ice marme de with accond'se drinking nons tos like fat aromas of sarts are a delicious tag. It's medium, hellal heels that tour or juicy, it offerr aromas oft give it will-pactalse of a at vines of almond marky, woow ye@waps. Mol. Gamootice: Stougs cuat' acidiruss, rospeall, lemon and cola over backgrough. This shows finished, Viu\n",
      "\n",
      "--------------------------------------------------\n",
      "Iteration 9\n",
      "Epoch 1/1\n",
      "463138/463138 [==============================] - 333s - loss: 1.7024   \n",
      "\n",
      "----- diversity: 0.2\n",
      "----- Generating with seed: \"Gamay: From a 15-acre vineyard owned by \"\n",
      "Gamay: From a 15-acre vineyard owned by ra andpace a perkens of the finish. The balanced and the beer and the finish. The balanced in the mouth with a clove and the finish. The finish. The palate delively structured and the finish. The palate is a the a berry and the palate and the finish. The beery wine the prove an a fruit and the beautu The finish. The finish. The palate is a start and the palate and the palate and the palate and the\n",
      "\n",
      "----- diversity: 0.5\n",
      "----- Generating with seed: \"Gamay: From a 15-acre vineyard owned by \"\n",
      "Gamay: From a 15-acre vineyard owned by  bouquet, vanilla 200oedering black to be the light with lineess of berry and the pot a provident of that offeel and good berry and the comporteated and starting of acidity and palate Granding, fruit and the wine the caruity and could berry, peach, cherry and a balanced is spiced aromas, stones the palate and lenped, with at the structure is a lemon, this is delive and wine at all acidity and the \n",
      "\n",
      "----- diversity: 1.0\n",
      "----- Generating with seed: \"Gamay: From a 15-acre vineyard owned by \"\n",
      "Gamay: From a 15-acre vineyard owned by suchpprape leavelywen. tinginalll ced bright as sweet  Vallaing wine fis. The fine texturi finis dos. The wine it lines the palate. The bioutitle an that it hall. Merloo: It's come papplive of througho onceme theross for actiet, more up lineesse ruse, pip blendse, edge the in mouthfeel irong elegeranty supples with haves with freshed palate polight, dry, delively cook, yeawestshre the lake palate \n",
      "\n",
      "----- diversity: 1.2\n",
      "----- Generating with seed: \"Gamay: From a 15-acre vineyard owned by \"\n",
      "Gamay: From a 15-acre vineyard owned by flavors of ñothve ois apple body. Tanns of oina Tintinesstions. Milelly Relentage Garnacha. The final Tempruics 2012 yax flush lonet black and carryerse, oak. Vercemy cedndy, olw and this has in Fragrandi, this resempthe red. Bank Amdepunt to caravari. big on the avonnor age Douile Red peachber, this imprope accing brings. linh. Albiol Barberry flows anothwalm a profile. The fail emawbla andpeca a\n"
     ]
    }
   ],
   "source": [
    "# train the model, output generated text after each iteration\n",
    "for iteration in range(10):\n",
    "    print()\n",
    "    print('-' * 50)\n",
    "    print('Iteration', iteration)\n",
    "    model.fit(X, y,\n",
    "              batch_size=128,\n",
    "              epochs=1,\n",
    "              callbacks=[board])\n",
    "    \n",
    "    rand_generator = np.random.randint((len(seed_lst)-1))\n",
    "\n",
    "    for diversity in [0.2, 0.5, 1.0, 1.2]:\n",
    "        print()\n",
    "        print('----- diversity:', diversity)\n",
    "\n",
    "        generated = seed_lst[rand_generator]\n",
    "        print('----- Generating with seed: \"' + generated + '\"')\n",
    "        sys.stdout.write(generated)\n",
    "\n",
    "        for i in range(400):\n",
    "            x = np.zeros((1, maxlen, len(chars)))\n",
    "            for t, char in enumerate(sentence):\n",
    "                x[0, t, char_indices[char]] = 1.\n",
    "\n",
    "            preds = model.predict(x, verbose=0)[0]\n",
    "            next_index = sample(preds, diversity)\n",
    "            next_char = indices_char[next_index]\n",
    "\n",
    "            generated += next_char\n",
    "            sentence = sentence[1:] + next_char\n",
    "\n",
    "            sys.stdout.write(next_char)\n",
    "            sys.stdout.flush()\n",
    "        print()"
   ]
  },
  {
   "cell_type": "code",
   "execution_count": null,
   "metadata": {
    "collapsed": true
   },
   "outputs": [],
   "source": [
    "model.save('balRNN_upTboard_model.h5')"
   ]
  },
  {
   "cell_type": "markdown",
   "metadata": {},
   "source": [
    "--------------------------------------------------\n",
    "Iteration 0\n",
    "Epoch 1/1\n",
    "463138/463138 [==============================] - 343s - loss: 1.5875   \n",
    "\n",
    "----- diversity: 0.2\n",
    "----- Generating with seed: \"Malbec: Black currant, cherry, plum and \"\n",
    "Malbec: Black currant, cherry, plum and  of concentrate of fruit and soft and black cherry and sweet and soft, ripe and soft and on the finish. The finish. The finish. The finish. The finish. The finish. Cabernet Sangioves: This is a thin the finds of thin in the finish. The fruit and the finish. The finish. The finish. The fruit and fruit and soft and a soft and a bit of complex that is a bit of complex and soft and a bit of complex an\n",
    "\n",
    "----- diversity: 0.5\n",
    "----- Generating with seed: \"Malbec: Black currant, cherry, plum and \"\n",
    "Malbec: Black currant, cherry, plum and d balanced by Petit also offers flavors, this wine is a soft and rich, pair structure and soft, but the flavors of pineapple, fruit and chocolate and honeyed by white flavors of chocolate and rich and flavors of corn with a times of crisp fruit of drink ersess of citrus and its a pretty, acidity, with complex than of some struiget than the cherry flavors of pear and pear and tention of blackberry \n",
    "\n",
    "----- diversity: 1.0\n",
    "----- Generating with seed: \"Malbec: Black currant, cherry, plum and \"\n",
    "Malbec: Black currant, cherry, plum and aromaty and flavor grap enjoy, , firl, herbened. in:y, firm, up fruits, earthrizes, Brancedina: it has elegance  on soft, ylingly Gromas: Crest and aromas of cocoa and over  a full of charactering aging lend on the nose of nose. A most age some sweet itso of white hearthlia is a bottle firm firm, well-limot and manbor. Ceathed notity compritends unant. Franccoriss with delicate lens over and tyn r\n",
    "\n",
    "----- diversity: 1.2\n",
    "----- Generating with seed: \"Malbec: Black currant, cherry, plum and \"\n",
    "Malbec: Black currant, cherry, plum and edarcaarond fruit and rmeoness. Fintumell: For a luss, soft creaminess of heagefulhy ampreteys moke soriscannes with pilfoned opens smoky, fruit only are pucoas. Its delicious flavors this golde not-soft well wothed throun lemgting clenite to th nose of Cavatbery modest of chocolate sweet nose : and darky acidity, payde. The poa. It's mitd medium with interested wine noads of GoCden-Merlotsen: Thi"
   ]
  },
  {
   "cell_type": "code",
   "execution_count": null,
   "metadata": {
    "collapsed": true
   },
   "outputs": [],
   "source": []
  }
 ],
 "metadata": {
  "kernelspec": {
   "display_name": "Python 3",
   "language": "python",
   "name": "python3"
  },
  "language_info": {
   "codemirror_mode": {
    "name": "ipython",
    "version": 3
   },
   "file_extension": ".py",
   "mimetype": "text/x-python",
   "name": "python",
   "nbconvert_exporter": "python",
   "pygments_lexer": "ipython3",
   "version": "3.6.1"
  }
 },
 "nbformat": 4,
 "nbformat_minor": 2
}
