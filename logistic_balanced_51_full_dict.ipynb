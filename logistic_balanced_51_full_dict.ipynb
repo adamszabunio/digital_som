{
 "cells": [
  {
   "cell_type": "code",
   "execution_count": 4,
   "metadata": {},
   "outputs": [
    {
     "name": "stdout",
     "output_type": "stream",
     "text": [
      "Collecting imblearn\n",
      "  Downloading imblearn-0.0-py2.py3-none-any.whl\n",
      "Collecting imbalanced-learn (from imblearn)\n",
      "  Downloading imbalanced-learn-0.2.1.tar.gz (90kB)\n",
      "\u001b[K    100% |████████████████████████████████| 92kB 1.8MB/s ta 0:00:01\n",
      "\u001b[?25hRequirement already satisfied: scipy>=0.17.0 in /Users/adamszabunio/anaconda/envs/dl/lib/python3.6/site-packages (from imbalanced-learn->imblearn)\n",
      "Requirement already satisfied: numpy>=1.10.4 in /Users/adamszabunio/anaconda/envs/dl/lib/python3.6/site-packages (from imbalanced-learn->imblearn)\n",
      "Requirement already satisfied: scikit-learn>=0.17.1 in /Users/adamszabunio/anaconda/envs/dl/lib/python3.6/site-packages (from imbalanced-learn->imblearn)\n",
      "Building wheels for collected packages: imbalanced-learn\n",
      "  Running setup.py bdist_wheel for imbalanced-learn ... \u001b[?25ldone\n",
      "\u001b[?25h  Stored in directory: /Users/adamszabunio/Library/Caches/pip/wheels/b8/20/bd/0b775f7e5d413ac72562b1a5126598bcb6e0eae10da659be9f\n",
      "Successfully built imbalanced-learn\n",
      "Installing collected packages: imbalanced-learn, imblearn\n",
      "Successfully installed imbalanced-learn-0.2.1 imblearn-0.0\n"
     ]
    }
   ],
   "source": [
    "!pip install imblearn"
   ]
  },
  {
   "cell_type": "code",
   "execution_count": 4,
   "metadata": {},
   "outputs": [
    {
     "name": "stdout",
     "output_type": "stream",
     "text": [
      "Automatically created module for IPython interactive environment\n"
     ]
    },
    {
     "data": {
      "image/png": "[encoded data removed]",
      "text/plain": [
       "<matplotlib.figure.Figure at 0x7efe37e7f908>"
      ]
     },
     "metadata": {},
     "output_type": "display_data"
    }
   ],
   "source": [
    "from sklearn.datasets import make_classification\n",
    "from sklearn.decomposition import PCA\n",
    "import matplotlib.pyplot as plt\n",
    "\n",
    "print(__doc__)\n",
    "\n",
    "# Generate the dataset\n",
    "X, y = make_classification(n_classes=2, class_sep=2, weights=[0.1, 0.9],\n",
    "                           n_informative=3, n_redundant=1, flip_y=0,\n",
    "                           n_features=20, n_clusters_per_class=1,\n",
    "                           n_samples=200, random_state=10)\n",
    "\n",
    "# Instanciate a PCA object for the sake of easy visualisation\n",
    "pca = PCA(n_components=2)\n",
    "# Fit and transform x to visualise inside a 2D feature space\n",
    "X_vis = pca.fit_transform(X)\n",
    "\n",
    "# Apply the random under-sampling\n",
    "rus = RandomUnderSampler(return_indices=True)\n",
    "X_resampled, y_resampled, idx_resampled = rus.fit_sample(X, y)\n",
    "X_res_vis = pca.transform(X_resampled)\n",
    "\n",
    "fig = plt.figure()\n",
    "ax = fig.add_subplot(1, 1, 1)\n",
    "\n",
    "idx_samples_removed = np.setdiff1d(np.arange(X_vis.shape[0]),\n",
    "                                   idx_resampled)\n",
    "\n",
    "idx_class_0 = y_resampled == 0\n",
    "plt.scatter(X_res_vis[idx_class_0, 0], X_res_vis[idx_class_0, 1],\n",
    "            alpha=.8, label='Class #0')\n",
    "plt.scatter(X_res_vis[~idx_class_0, 0], X_res_vis[~idx_class_0, 1],\n",
    "            alpha=.8, label='Class #1')\n",
    "plt.scatter(X_vis[idx_samples_removed, 0], X_vis[idx_samples_removed, 1],\n",
    "            alpha=.8, label='Removed samples')\n",
    "\n",
    "# make nice plotting\n",
    "ax.spines['top'].set_visible(False)\n",
    "ax.spines['right'].set_visible(False)\n",
    "ax.get_xaxis().tick_bottom()\n",
    "ax.get_yaxis().tick_left()\n",
    "ax.spines['left'].set_position(('outward', 10))\n",
    "ax.spines['bottom'].set_position(('outward', 10))\n",
    "ax.set_xlim([-6, 6])\n",
    "ax.set_ylim([-6, 6])\n",
    "\n",
    "plt.title('Under-sampling using random under-sampling')\n",
    "plt.legend()\n",
    "plt.tight_layout()\n",
    "plt.show()"
   ]
  },
  {
   "cell_type": "code",
   "execution_count": 1,
   "metadata": {},
   "outputs": [
    {
     "name": "stderr",
     "output_type": "stream",
     "text": [
      "Using TensorFlow backend.\n"
     ]
    }
   ],
   "source": [
    "%matplotlib inline\n",
    "import pandas as pd \n",
    "import numpy as np\n",
    "import sklearn.metrics as sklm\n",
    "from sklearn.model_selection import train_test_split\n",
    "from sklearn import metrics\n",
    "from sklearn.linear_model import LogisticRegression\n",
    "from keras.preprocessing.text import Tokenizer\n",
    "from imblearn.under_sampling import RandomUnderSampler\n",
    "import seaborn as sns"
   ]
  },
  {
   "cell_type": "code",
   "execution_count": 2,
   "metadata": {
    "collapsed": true
   },
   "outputs": [],
   "source": [
    "wine_df = pd.read_csv('winemag_data_first150k.csv')"
   ]
  },
  {
   "cell_type": "markdown",
   "metadata": {},
   "source": [
    "### Preprocessing"
   ]
  },
  {
   "cell_type": "code",
   "execution_count": 3,
   "metadata": {},
   "outputs": [
    {
     "data": {
      "text/plain": [
       "((93438,), (93438, 108))"
      ]
     },
     "execution_count": 3,
     "metadata": {},
     "output_type": "execute_result"
    }
   ],
   "source": [
    "wine_df = wine_df.drop_duplicates(subset='description', keep='last')\n",
    "\n",
    "wine_df = wine_df.drop(['Unnamed: 0', 'country', 'designation', 'points', 'price', 'province', \n",
    "                        'region_1', 'region_2', 'winery'], axis=1)\n",
    "\n",
    "greater = wine_df.variety.value_counts() >= 50\n",
    "greater_tru = greater[greater==True]\n",
    "greaterthan50 = list(greater_tru.index)\n",
    "\n",
    "wine_df.variety = wine_df.variety.apply(lambda x:x if x in greaterthan50 else 'Other')\n",
    "\n",
    "wine_50_df = wine_df[wine_df.variety!='Other']\n",
    "\n",
    "target = wine_50_df['variety']\n",
    "y = pd.get_dummies(target)\n",
    "\n",
    "X_text = wine_50_df.description\n",
    "\n",
    "X_text.shape, y.shape"
   ]
  },
  {
   "cell_type": "markdown",
   "metadata": {},
   "source": [
    "## BoW approach to creating our X matrix"
   ]
  },
  {
   "cell_type": "code",
   "execution_count": 4,
   "metadata": {},
   "outputs": [
    {
     "name": "stdout",
     "output_type": "stream",
     "text": [
      "(93438,)\n"
     ]
    },
    {
     "data": {
      "text/plain": [
       "array([ 11,  93,  79, ..., 105,  16,  58])"
      ]
     },
     "execution_count": 4,
     "metadata": {},
     "output_type": "execute_result"
    }
   ],
   "source": [
    "_, y_scalar = np.where(y>0)\n",
    "print(y_scalar.shape)\n",
    "\n",
    "y_scalar"
   ]
  },
  {
   "cell_type": "code",
   "execution_count": 5,
   "metadata": {
    "collapsed": true
   },
   "outputs": [],
   "source": [
    "tok = Tokenizer(filters='!\"#%&()*+,-./:;<=>?@[\\\\]^_`{|}~\\t\\n') # Keep '$' "
   ]
  },
  {
   "cell_type": "code",
   "execution_count": 6,
   "metadata": {},
   "outputs": [
    {
     "data": {
      "text/plain": [
       "(93438, 36184)"
      ]
     },
     "execution_count": 6,
     "metadata": {},
     "output_type": "execute_result"
    }
   ],
   "source": [
    "corpus = [description for description in X_text]\n",
    "tok.fit_on_texts(corpus)\n",
    "X = tok.texts_to_matrix(corpus)\n",
    "\n",
    "X.shape"
   ]
  },
  {
   "cell_type": "code",
   "execution_count": 7,
   "metadata": {},
   "outputs": [
    {
     "data": {
      "text/plain": [
       "((5508, 36184), (5508,))"
      ]
     },
     "execution_count": 7,
     "metadata": {},
     "output_type": "execute_result"
    }
   ],
   "source": [
    "rus2 = RandomUnderSampler(replacement=False, random_state=42)\n",
    "X_res, y_res = rus2.fit_sample(X, y_scalar)\n",
    "\n",
    "X_res.shape, y_res.shape"
   ]
  },
  {
   "cell_type": "code",
   "execution_count": 8,
   "metadata": {},
   "outputs": [
    {
     "data": {
      "image/png": "[encoded data removed]",
      "text/plain": [
       "<matplotlib.figure.Figure at 0x7f871c6d04e0>"
      ]
     },
     "metadata": {},
     "output_type": "display_data"
    }
   ],
   "source": [
    "pd.Series(y_res).value_counts().plot();"
   ]
  },
  {
   "cell_type": "code",
   "execution_count": 9,
   "metadata": {},
   "outputs": [
    {
     "data": {
      "text/plain": [
       "((4957, 36184), (551, 36184), (4957,), (551,))"
      ]
     },
     "execution_count": 9,
     "metadata": {},
     "output_type": "execute_result"
    }
   ],
   "source": [
    "X_train, X_test, y_train, y_test = train_test_split(X_res, y_res, test_size=.1, random_state=41)\n",
    "\n",
    "X_train.shape, X_test.shape, y_train.shape, y_test.shape"
   ]
  },
  {
   "cell_type": "code",
   "execution_count": 10,
   "metadata": {},
   "outputs": [
    {
     "data": {
      "text/plain": [
       "array([ 22,  68, 106,   0,  42])"
      ]
     },
     "execution_count": 10,
     "metadata": {},
     "output_type": "execute_result"
    }
   ],
   "source": [
    "y_train[:5]"
   ]
  },
  {
   "cell_type": "markdown",
   "metadata": {},
   "source": [
    "# X_train 2 iter "
   ]
  },
  {
   "cell_type": "code",
   "execution_count": 11,
   "metadata": {},
   "outputs": [
    {
     "name": "stdout",
     "output_type": "stream",
     "text": [
      "max_iter reached after 364 seconds\n",
      "LogisticRegression(C=1.0, class_weight=None, dual=False, fit_intercept=True,\n",
      "          intercept_scaling=1, max_iter=2, multi_class='multinomial',\n",
      "          n_jobs=1, penalty='l2', random_state=None, solver='sag',\n",
      "          tol=0.0001, verbose=1, warm_start=False)\n"
     ]
    },
    {
     "name": "stderr",
     "output_type": "stream",
     "text": [
      "/home/adamszabunio/anaconda3/envs/dl/lib/python3.6/site-packages/sklearn/linear_model/sag.py:286: ConvergenceWarning: The max_iter was reached which means the coef_ did not converge\n",
      "  \"the coef_ did not converge\", ConvergenceWarning)\n",
      "[Parallel(n_jobs=1)]: Done   1 out of   1 | elapsed:  6.1min finished\n"
     ]
    }
   ],
   "source": [
    "# fit a logistic regression model to the data\n",
    "model = LogisticRegression(multi_class='multinomial', max_iter=2, solver='sag', verbose=1)\n",
    "model.fit(X_train, y_train)\n",
    "print(model)"
   ]
  },
  {
   "cell_type": "code",
   "execution_count": 13,
   "metadata": {},
   "outputs": [
    {
     "data": {
      "text/plain": [
       "0.72886826709703445"
      ]
     },
     "execution_count": 13,
     "metadata": {},
     "output_type": "execute_result"
    }
   ],
   "source": [
    "model.score(X_train, y_train)"
   ]
  },
  {
   "cell_type": "code",
   "execution_count": 14,
   "metadata": {
    "scrolled": false
   },
   "outputs": [
    {
     "name": "stdout",
     "output_type": "stream",
     "text": [
      "             precision    recall  f1-score   support\n",
      "\n",
      "          0       0.86      0.76      0.81        41\n",
      "          1       0.63      0.76      0.69        42\n",
      "          2       0.79      0.74      0.76        46\n",
      "          3       0.92      0.78      0.84        45\n",
      "          4       0.86      0.84      0.85        50\n",
      "          5       0.61      0.74      0.67        47\n",
      "          6       0.87      0.77      0.81        43\n",
      "          7       0.72      0.61      0.66        46\n",
      "          8       0.84      0.60      0.70        45\n",
      "          9       0.66      0.78      0.71        45\n",
      "         10       0.62      0.73      0.67        45\n",
      "         11       0.59      0.80      0.68        46\n",
      "         12       0.84      0.65      0.73        48\n",
      "         13       0.70      0.67      0.68        48\n",
      "         14       0.75      0.59      0.66        46\n",
      "         15       0.88      0.49      0.63        43\n",
      "         16       0.91      0.71      0.80        45\n",
      "         17       0.51      0.65      0.57        43\n",
      "         18       0.84      0.69      0.76        45\n",
      "         19       0.64      0.76      0.69        49\n",
      "         20       0.62      0.85      0.72        47\n",
      "         21       0.70      0.62      0.66        48\n",
      "         22       0.84      0.84      0.84        49\n",
      "         23       0.97      0.72      0.83        47\n",
      "         24       0.71      0.80      0.75        44\n",
      "         25       0.51      0.80      0.63        46\n",
      "         26       0.84      0.69      0.76        45\n",
      "         27       0.46      0.84      0.59        44\n",
      "         28       0.97      0.79      0.87        47\n",
      "         29       0.77      0.72      0.74        46\n",
      "         30       0.65      0.71      0.68        48\n",
      "         31       0.87      0.89      0.88        46\n",
      "         32       0.88      0.78      0.82        45\n",
      "         33       0.79      0.76      0.77        49\n",
      "         34       0.60      0.83      0.70        48\n",
      "         35       0.57      0.72      0.63        46\n",
      "         36       0.86      0.72      0.78        43\n",
      "         37       0.52      0.88      0.65        49\n",
      "         38       0.75      0.62      0.68        48\n",
      "         39       0.69      0.59      0.64        46\n",
      "         40       0.88      0.60      0.71        47\n",
      "         41       0.65      0.93      0.76        42\n",
      "         42       0.74      0.61      0.67        46\n",
      "         43       0.71      0.64      0.67        50\n",
      "         44       0.62      0.81      0.70        47\n",
      "         45       0.84      0.73      0.78        49\n",
      "         46       0.77      0.55      0.64        49\n",
      "         47       0.72      0.85      0.78        46\n",
      "         48       0.81      0.76      0.79        46\n",
      "         49       0.69      0.67      0.68        43\n",
      "         50       0.64      0.83      0.72        47\n",
      "         51       0.79      0.81      0.80        47\n",
      "         52       0.74      0.89      0.80        44\n",
      "         53       0.97      0.74      0.84        47\n",
      "         54       0.85      0.72      0.78        46\n",
      "         55       0.88      0.85      0.86        41\n",
      "         56       0.59      0.89      0.71        45\n",
      "         57       0.70      0.70      0.70        50\n",
      "         58       0.78      0.67      0.72        46\n",
      "         59       0.92      0.53      0.68        45\n",
      "         60       0.67      0.90      0.77        49\n",
      "         61       0.80      0.67      0.73        49\n",
      "         62       0.88      0.74      0.80        47\n",
      "         63       0.47      0.70      0.56        47\n",
      "         64       0.53      0.54      0.54        46\n",
      "         65       0.83      0.64      0.72        47\n",
      "         66       0.96      0.53      0.68        47\n",
      "         67       0.82      0.89      0.86        47\n",
      "         68       1.00      0.65      0.79        43\n",
      "         69       0.93      0.58      0.71        43\n",
      "         70       0.67      0.83      0.74        41\n",
      "         71       0.83      0.83      0.83        47\n",
      "         72       0.54      0.78      0.64        49\n",
      "         73       0.70      0.65      0.67        49\n",
      "         74       0.75      0.73      0.74        45\n",
      "         75       0.84      0.84      0.84        44\n",
      "         76       0.79      0.69      0.74        45\n",
      "         77       0.80      0.89      0.84        45\n",
      "         78       0.85      0.76      0.80        45\n",
      "         79       0.83      0.64      0.73        45\n",
      "         80       0.68      0.78      0.73        50\n",
      "         81       0.93      0.95      0.94        43\n",
      "         82       0.82      0.79      0.80        47\n",
      "         83       0.61      0.79      0.69        43\n",
      "         84       0.84      0.88      0.86        43\n",
      "         85       0.77      0.51      0.61        45\n",
      "         86       0.79      0.67      0.73        46\n",
      "         87       0.93      0.53      0.68        47\n",
      "         88       0.63      0.59      0.61        46\n",
      "         89       0.96      0.55      0.70        42\n",
      "         90       0.51      0.76      0.61        46\n",
      "         91       0.46      0.79      0.58        48\n",
      "         92       0.85      0.60      0.70        47\n",
      "         93       0.89      0.67      0.77        46\n",
      "         94       0.62      0.80      0.70        46\n",
      "         95       0.74      0.64      0.69        45\n",
      "         96       0.61      0.94      0.74        49\n",
      "         97       0.71      0.59      0.64        46\n",
      "         98       0.70      0.89      0.79        47\n",
      "         99       0.90      0.79      0.84        47\n",
      "        100       0.69      0.67      0.68        43\n",
      "        101       0.97      0.77      0.86        43\n",
      "        102       0.83      0.79      0.81        48\n",
      "        103       0.86      0.67      0.76        46\n",
      "        104       0.79      0.72      0.76        47\n",
      "        105       0.83      0.56      0.67        43\n",
      "        106       0.83      0.81      0.82        43\n",
      "        107       0.87      0.63      0.73        43\n",
      "\n",
      "avg / total       0.76      0.73      0.73      4957\n",
      "\n",
      "[[31  0  0 ...,  0  0  0]\n",
      " [ 0 32  0 ...,  0  0  0]\n",
      " [ 0  0 34 ...,  0  0  0]\n",
      " ..., \n",
      " [ 0  0  0 ..., 24  0  0]\n",
      " [ 0  0  0 ...,  0 35  0]\n",
      " [ 0  0  0 ...,  0  0 27]]\n"
     ]
    }
   ],
   "source": [
    "# make predictions\n",
    "expected = y_train\n",
    "predicted = model.predict(X_train)\n",
    "# summarize the fit of the model\n",
    "print(metrics.classification_report(expected, predicted))\n",
    "train_confus_mat = metrics.confusion_matrix(expected, predicted)\n",
    "print(train_confus_mat)"
   ]
  },
  {
   "cell_type": "markdown",
   "metadata": {},
   "source": [
    "# X_train 5 iter"
   ]
  },
  {
   "cell_type": "code",
   "execution_count": 17,
   "metadata": {},
   "outputs": [
    {
     "name": "stdout",
     "output_type": "stream",
     "text": [
      "max_iter reached after 1095 seconds\n",
      "LogisticRegression(C=1.0, class_weight=None, dual=False, fit_intercept=True,\n",
      "          intercept_scaling=1, max_iter=5, multi_class='multinomial',\n",
      "          n_jobs=1, penalty='l2', random_state=None, solver='sag',\n",
      "          tol=0.0001, verbose=1, warm_start=False)\n"
     ]
    },
    {
     "name": "stderr",
     "output_type": "stream",
     "text": [
      "/home/adamszabunio/anaconda3/envs/dl/lib/python3.6/site-packages/sklearn/linear_model/sag.py:286: ConvergenceWarning: The max_iter was reached which means the coef_ did not converge\n",
      "  \"the coef_ did not converge\", ConvergenceWarning)\n",
      "[Parallel(n_jobs=1)]: Done   1 out of   1 | elapsed: 18.3min finished\n"
     ]
    }
   ],
   "source": [
    "# fit a logistic regression model to the data\n",
    "model = LogisticRegression(multi_class='multinomial', max_iter=5, solver='sag', verbose=1)\n",
    "model.fit(X_train, y_train)\n",
    "print(model)"
   ]
  },
  {
   "cell_type": "code",
   "execution_count": 18,
   "metadata": {
    "scrolled": true
   },
   "outputs": [
    {
     "data": {
      "text/plain": [
       "0.95844260641517043"
      ]
     },
     "execution_count": 18,
     "metadata": {},
     "output_type": "execute_result"
    }
   ],
   "source": [
    "model.score(X_train, y_train)"
   ]
  },
  {
   "cell_type": "code",
   "execution_count": 19,
   "metadata": {
    "scrolled": true
   },
   "outputs": [
    {
     "name": "stdout",
     "output_type": "stream",
     "text": [
      "             precision    recall  f1-score   support\n",
      "\n",
      "          0       0.93      0.95      0.94        41\n",
      "          1       0.95      1.00      0.98        42\n",
      "          2       1.00      1.00      1.00        46\n",
      "          3       1.00      1.00      1.00        45\n",
      "          4       1.00      0.98      0.99        50\n",
      "          5       0.98      0.96      0.97        47\n",
      "          6       0.93      0.98      0.95        43\n",
      "          7       1.00      0.93      0.97        46\n",
      "          8       0.96      1.00      0.98        45\n",
      "          9       0.93      0.89      0.91        45\n",
      "         10       0.93      0.91      0.92        45\n",
      "         11       0.79      0.91      0.85        46\n",
      "         12       0.91      0.90      0.91        48\n",
      "         13       0.98      0.94      0.96        48\n",
      "         14       1.00      1.00      1.00        46\n",
      "         15       0.96      1.00      0.98        43\n",
      "         16       1.00      0.96      0.98        45\n",
      "         17       0.93      0.93      0.93        43\n",
      "         18       0.95      0.91      0.93        45\n",
      "         19       0.96      0.96      0.96        49\n",
      "         20       0.98      0.98      0.98        47\n",
      "         21       0.98      0.94      0.96        48\n",
      "         22       0.98      0.98      0.98        49\n",
      "         23       1.00      0.94      0.97        47\n",
      "         24       0.98      0.95      0.97        44\n",
      "         25       0.98      0.96      0.97        46\n",
      "         26       1.00      0.96      0.98        45\n",
      "         27       0.89      0.95      0.92        44\n",
      "         28       0.98      0.96      0.97        47\n",
      "         29       0.90      0.96      0.93        46\n",
      "         30       1.00      0.96      0.98        48\n",
      "         31       1.00      0.98      0.99        46\n",
      "         32       1.00      0.98      0.99        45\n",
      "         33       0.94      1.00      0.97        49\n",
      "         34       0.96      0.94      0.95        48\n",
      "         35       0.98      0.98      0.98        46\n",
      "         36       0.98      0.95      0.96        43\n",
      "         37       1.00      0.96      0.98        49\n",
      "         38       0.96      0.96      0.96        48\n",
      "         39       0.98      0.87      0.92        46\n",
      "         40       1.00      0.98      0.99        47\n",
      "         41       0.95      0.98      0.96        42\n",
      "         42       0.96      0.96      0.96        46\n",
      "         43       0.94      0.94      0.94        50\n",
      "         44       0.98      0.91      0.95        47\n",
      "         45       0.98      0.96      0.97        49\n",
      "         46       0.94      0.94      0.94        49\n",
      "         47       0.94      1.00      0.97        46\n",
      "         48       0.98      0.89      0.93        46\n",
      "         49       1.00      1.00      1.00        43\n",
      "         50       0.98      0.98      0.98        47\n",
      "         51       0.96      0.98      0.97        47\n",
      "         52       1.00      1.00      1.00        44\n",
      "         53       0.96      0.98      0.97        47\n",
      "         54       0.86      0.91      0.88        46\n",
      "         55       0.97      0.93      0.95        41\n",
      "         56       1.00      0.98      0.99        45\n",
      "         57       0.90      0.94      0.92        50\n",
      "         58       0.93      0.93      0.93        46\n",
      "         59       0.98      0.91      0.94        45\n",
      "         60       0.96      0.98      0.97        49\n",
      "         61       0.82      0.94      0.88        49\n",
      "         62       0.98      0.87      0.92        47\n",
      "         63       0.98      1.00      0.99        47\n",
      "         64       0.90      1.00      0.95        46\n",
      "         65       0.87      1.00      0.93        47\n",
      "         66       0.98      0.87      0.92        47\n",
      "         67       0.94      1.00      0.97        47\n",
      "         68       0.98      1.00      0.99        43\n",
      "         69       0.97      0.91      0.94        43\n",
      "         70       0.98      1.00      0.99        41\n",
      "         71       1.00      1.00      1.00        47\n",
      "         72       0.96      0.98      0.97        49\n",
      "         73       0.92      0.92      0.92        49\n",
      "         74       0.88      0.98      0.93        45\n",
      "         75       0.98      0.95      0.97        44\n",
      "         76       1.00      0.93      0.97        45\n",
      "         77       0.98      0.96      0.97        45\n",
      "         78       1.00      0.98      0.99        45\n",
      "         79       0.93      0.89      0.91        45\n",
      "         80       1.00      0.96      0.98        50\n",
      "         81       1.00      0.98      0.99        43\n",
      "         82       1.00      0.98      0.99        47\n",
      "         83       0.93      0.98      0.95        43\n",
      "         84       0.98      0.98      0.98        43\n",
      "         85       1.00      0.96      0.98        45\n",
      "         86       0.98      0.96      0.97        46\n",
      "         87       0.98      0.94      0.96        47\n",
      "         88       1.00      0.96      0.98        46\n",
      "         89       0.95      1.00      0.98        42\n",
      "         90       0.91      0.89      0.90        46\n",
      "         91       0.96      0.98      0.97        48\n",
      "         92       0.94      0.96      0.95        47\n",
      "         93       0.98      0.98      0.98        46\n",
      "         94       0.94      0.98      0.96        46\n",
      "         95       0.98      1.00      0.99        45\n",
      "         96       0.98      1.00      0.99        49\n",
      "         97       0.93      0.89      0.91        46\n",
      "         98       0.90      0.98      0.94        47\n",
      "         99       0.96      0.98      0.97        47\n",
      "        100       0.95      0.98      0.97        43\n",
      "        101       0.98      1.00      0.99        43\n",
      "        102       0.96      0.98      0.97        48\n",
      "        103       0.98      0.98      0.98        46\n",
      "        104       0.90      0.96      0.93        47\n",
      "        105       1.00      0.91      0.95        43\n",
      "        106       0.87      0.95      0.91        43\n",
      "        107       1.00      0.98      0.99        43\n",
      "\n",
      "avg / total       0.96      0.96      0.96      4957\n",
      "\n",
      "[[39  0  0 ...,  0  0  0]\n",
      " [ 0 42  0 ...,  0  0  0]\n",
      " [ 0  0 46 ...,  0  0  0]\n",
      " ..., \n",
      " [ 0  0  0 ..., 39  0  0]\n",
      " [ 0  0  0 ...,  0 41  0]\n",
      " [ 0  0  0 ...,  0  0 42]]\n"
     ]
    }
   ],
   "source": [
    "# make predictions\n",
    "expected = y_train\n",
    "predicted = model.predict(X_train)\n",
    "# summarize the fit of the model\n",
    "print(metrics.classification_report(expected, predicted))\n",
    "train_confus_mat = metrics.confusion_matrix(expected, predicted)\n",
    "print(train_confus_mat)"
   ]
  },
  {
   "cell_type": "markdown",
   "metadata": {},
   "source": [
    "# X_train 10 iter"
   ]
  },
  {
   "cell_type": "code",
   "execution_count": 11,
   "metadata": {},
   "outputs": [
    {
     "name": "stdout",
     "output_type": "stream",
     "text": [
      "max_iter reached after 1648 seconds\n",
      "LogisticRegression(C=1.0, class_weight=None, dual=False, fit_intercept=True,\n",
      "          intercept_scaling=1, max_iter=10, multi_class='multinomial',\n",
      "          n_jobs=1, penalty='l2', random_state=None, solver='sag',\n",
      "          tol=0.0001, verbose=1, warm_start=False)\n"
     ]
    },
    {
     "name": "stderr",
     "output_type": "stream",
     "text": [
      "/home/adamszabunio/anaconda3/envs/dl/lib/python3.6/site-packages/sklearn/linear_model/sag.py:286: ConvergenceWarning: The max_iter was reached which means the coef_ did not converge\n",
      "  \"the coef_ did not converge\", ConvergenceWarning)\n",
      "[Parallel(n_jobs=1)]: Done   1 out of   1 | elapsed: 27.5min finished\n"
     ]
    }
   ],
   "source": [
    "# fit a logistic regression model to the data\n",
    "model = LogisticRegression(multi_class='multinomial', max_iter=10, solver='sag', verbose=1)\n",
    "model.fit(X_train, y_train)\n",
    "print(model)"
   ]
  },
  {
   "cell_type": "code",
   "execution_count": 13,
   "metadata": {},
   "outputs": [
    {
     "data": {
      "text/plain": [
       "0.99798265079685289"
      ]
     },
     "execution_count": 13,
     "metadata": {},
     "output_type": "execute_result"
    }
   ],
   "source": [
    "model.score(X_train, y_train)"
   ]
  },
  {
   "cell_type": "code",
   "execution_count": 12,
   "metadata": {
    "scrolled": true
   },
   "outputs": [
    {
     "name": "stdout",
     "output_type": "stream",
     "text": [
      "             precision    recall  f1-score   support\n",
      "\n",
      "          0       1.00      1.00      1.00        47\n",
      "          1       1.00      1.00      1.00        49\n",
      "          2       1.00      1.00      1.00        48\n",
      "          3       1.00      0.98      0.99        44\n",
      "          4       1.00      1.00      1.00        47\n",
      "          5       1.00      1.00      1.00        45\n",
      "          6       1.00      1.00      1.00        47\n",
      "          7       1.00      1.00      1.00        47\n",
      "          8       1.00      1.00      1.00        46\n",
      "          9       1.00      1.00      1.00        46\n",
      "         10       1.00      1.00      1.00        45\n",
      "         11       1.00      0.98      0.99        47\n",
      "         12       1.00      1.00      1.00        45\n",
      "         13       1.00      1.00      1.00        45\n",
      "         14       1.00      1.00      1.00        45\n",
      "         15       0.98      1.00      0.99        45\n",
      "         16       1.00      1.00      1.00        50\n",
      "         17       1.00      1.00      1.00        46\n",
      "         18       1.00      1.00      1.00        45\n",
      "         19       1.00      1.00      1.00        46\n",
      "         20       0.98      1.00      0.99        47\n",
      "         21       1.00      0.98      0.99        43\n",
      "         22       1.00      1.00      1.00        48\n",
      "         23       1.00      1.00      1.00        39\n",
      "         24       1.00      1.00      1.00        44\n",
      "         25       1.00      1.00      1.00        45\n",
      "         26       1.00      1.00      1.00        47\n",
      "         27       1.00      1.00      1.00        45\n",
      "         28       1.00      1.00      1.00        49\n",
      "         29       1.00      1.00      1.00        42\n",
      "         30       1.00      1.00      1.00        44\n",
      "         31       1.00      1.00      1.00        43\n",
      "         32       1.00      1.00      1.00        47\n",
      "         33       1.00      1.00      1.00        46\n",
      "         34       1.00      1.00      1.00        43\n",
      "         35       1.00      1.00      1.00        46\n",
      "         36       1.00      1.00      1.00        42\n",
      "         37       1.00      1.00      1.00        48\n",
      "         38       1.00      0.98      0.99        42\n",
      "         39       1.00      0.98      0.99        50\n",
      "         40       1.00      1.00      1.00        46\n",
      "         41       1.00      1.00      1.00        44\n",
      "         42       1.00      1.00      1.00        48\n",
      "         43       1.00      1.00      1.00        47\n",
      "         44       1.00      1.00      1.00        48\n",
      "         45       1.00      1.00      1.00        45\n",
      "         46       1.00      1.00      1.00        47\n",
      "         47       1.00      1.00      1.00        47\n",
      "         48       1.00      1.00      1.00        47\n",
      "         49       1.00      1.00      1.00        46\n",
      "         50       1.00      1.00      1.00        43\n",
      "         51       1.00      1.00      1.00        46\n",
      "         52       1.00      1.00      1.00        47\n",
      "         53       1.00      1.00      1.00        49\n",
      "         54       1.00      1.00      1.00        44\n",
      "         55       1.00      0.98      0.99        45\n",
      "         56       1.00      1.00      1.00        46\n",
      "         57       1.00      1.00      1.00        46\n",
      "         58       1.00      0.98      0.99        46\n",
      "         59       1.00      1.00      1.00        47\n",
      "         60       1.00      1.00      1.00        48\n",
      "         61       0.98      1.00      0.99        43\n",
      "         62       1.00      1.00      1.00        48\n",
      "         63       1.00      1.00      1.00        49\n",
      "         64       1.00      1.00      1.00        49\n",
      "         65       0.96      1.00      0.98        48\n",
      "         66       1.00      1.00      1.00        46\n",
      "         67       1.00      1.00      1.00        46\n",
      "         68       1.00      1.00      1.00        48\n",
      "         69       1.00      1.00      1.00        43\n",
      "         70       1.00      1.00      1.00        46\n",
      "         71       1.00      1.00      1.00        44\n",
      "         72       1.00      1.00      1.00        47\n",
      "         73       1.00      1.00      1.00        45\n",
      "         74       1.00      1.00      1.00        46\n",
      "         75       1.00      1.00      1.00        43\n",
      "         76       1.00      1.00      1.00        49\n",
      "         77       1.00      1.00      1.00        47\n",
      "         78       1.00      1.00      1.00        45\n",
      "         79       1.00      0.98      0.99        46\n",
      "         80       1.00      1.00      1.00        47\n",
      "         81       1.00      1.00      1.00        46\n",
      "         82       1.00      1.00      1.00        47\n",
      "         83       1.00      1.00      1.00        44\n",
      "         84       1.00      1.00      1.00        45\n",
      "         85       1.00      1.00      1.00        46\n",
      "         86       1.00      1.00      1.00        44\n",
      "         87       1.00      0.98      0.99        49\n",
      "         88       1.00      1.00      1.00        46\n",
      "         89       1.00      1.00      1.00        44\n",
      "         90       1.00      0.98      0.99        42\n",
      "         91       1.00      1.00      1.00        46\n",
      "         92       1.00      1.00      1.00        46\n",
      "         93       1.00      1.00      1.00        46\n",
      "         94       1.00      1.00      1.00        43\n",
      "         95       1.00      1.00      1.00        47\n",
      "         96       0.98      1.00      0.99        44\n",
      "         97       0.98      1.00      0.99        45\n",
      "         98       1.00      1.00      1.00        47\n",
      "         99       1.00      1.00      1.00        44\n",
      "        100       1.00      1.00      1.00        48\n",
      "        101       1.00      1.00      1.00        47\n",
      "        102       1.00      1.00      1.00        47\n",
      "        103       1.00      1.00      1.00        45\n",
      "        104       1.00      1.00      1.00        47\n",
      "        105       1.00      1.00      1.00        45\n",
      "        106       0.96      1.00      0.98        48\n",
      "        107       0.98      1.00      0.99        47\n",
      "\n",
      "avg / total       1.00      1.00      1.00      4957\n",
      "\n",
      "[[47  0  0 ...,  0  0  0]\n",
      " [ 0 49  0 ...,  0  0  0]\n",
      " [ 0  0 48 ...,  0  0  0]\n",
      " ..., \n",
      " [ 0  0  0 ..., 45  0  0]\n",
      " [ 0  0  0 ...,  0 48  0]\n",
      " [ 0  0  0 ...,  0  0 47]]\n"
     ]
    }
   ],
   "source": [
    "# make predictions\n",
    "expected = y_train\n",
    "predicted = model.predict(X_train)\n",
    "# summarize the fit of the model\n",
    "print(metrics.classification_report(expected, predicted))\n",
    "train_confus_mat = metrics.confusion_matrix(expected, predicted)\n",
    "print(train_confus_mat)"
   ]
  },
  {
   "cell_type": "code",
   "execution_count": 22,
   "metadata": {},
   "outputs": [
    {
     "data": {
      "image/png": "[encoded data removed]",
      "text/plain": [
       "<matplotlib.figure.Figure at 0x7fd4fcbdeb00>"
      ]
     },
     "metadata": {},
     "output_type": "display_data"
    }
   ],
   "source": [
    "sns.heatmap(train_confus_mat);"
   ]
  },
  {
   "cell_type": "markdown",
   "metadata": {},
   "source": [
    "# X_test 2 iter"
   ]
  },
  {
   "cell_type": "code",
   "execution_count": 15,
   "metadata": {},
   "outputs": [
    {
     "data": {
      "text/plain": [
       "0.32304900181488205"
      ]
     },
     "execution_count": 15,
     "metadata": {},
     "output_type": "execute_result"
    }
   ],
   "source": [
    "model.score(X_test, y_test)"
   ]
  },
  {
   "cell_type": "code",
   "execution_count": 16,
   "metadata": {
    "scrolled": true
   },
   "outputs": [
    {
     "name": "stdout",
     "output_type": "stream",
     "text": [
      "             precision    recall  f1-score   support\n",
      "\n",
      "          0       0.60      0.30      0.40        10\n",
      "          1       0.57      0.44      0.50         9\n",
      "          2       0.50      0.40      0.44         5\n",
      "          3       0.50      0.33      0.40         6\n",
      "          4       0.33      1.00      0.50         1\n",
      "          5       0.13      0.50      0.21         4\n",
      "          6       0.67      0.25      0.36         8\n",
      "          7       0.14      0.20      0.17         5\n",
      "          8       0.75      0.50      0.60         6\n",
      "          9       0.18      0.33      0.24         6\n",
      "         10       0.22      0.33      0.27         6\n",
      "         11       0.25      0.40      0.31         5\n",
      "         12       0.00      0.00      0.00         3\n",
      "         13       0.00      0.00      0.00         3\n",
      "         14       0.50      0.60      0.55         5\n",
      "         15       0.67      0.50      0.57         8\n",
      "         16       0.67      0.33      0.44         6\n",
      "         17       0.00      0.00      0.00         8\n",
      "         18       0.25      0.17      0.20         6\n",
      "         19       0.00      0.00      0.00         2\n",
      "         20       0.40      0.50      0.44         4\n",
      "         21       0.33      0.33      0.33         3\n",
      "         22       1.00      0.50      0.67         2\n",
      "         23       0.00      0.00      0.00         4\n",
      "         24       0.44      0.57      0.50         7\n",
      "         25       0.18      0.40      0.25         5\n",
      "         26       0.40      0.33      0.36         6\n",
      "         27       0.23      0.43      0.30         7\n",
      "         28       0.67      0.50      0.57         4\n",
      "         29       0.25      0.20      0.22         5\n",
      "         30       0.50      0.67      0.57         3\n",
      "         31       0.57      0.80      0.67         5\n",
      "         32       0.00      0.00      0.00         6\n",
      "         33       0.00      0.00      0.00         2\n",
      "         34       0.25      0.33      0.29         3\n",
      "         35       0.40      0.40      0.40         5\n",
      "         36       0.50      0.25      0.33         8\n",
      "         37       0.40      1.00      0.57         2\n",
      "         38       0.00      0.00      0.00         3\n",
      "         39       0.00      0.00      0.00         5\n",
      "         40       0.50      0.25      0.33         4\n",
      "         41       0.56      0.56      0.56         9\n",
      "         42       0.00      0.00      0.00         5\n",
      "         43       0.20      1.00      0.33         1\n",
      "         44       0.00      0.00      0.00         4\n",
      "         45       0.00      0.00      0.00         2\n",
      "         46       0.00      0.00      0.00         2\n",
      "         47       0.20      0.40      0.27         5\n",
      "         48       0.33      0.20      0.25         5\n",
      "         49       0.33      0.25      0.29         8\n",
      "         50       0.29      0.50      0.36         4\n",
      "         51       0.33      0.25      0.29         4\n",
      "         52       0.64      1.00      0.78         7\n",
      "         53       0.50      0.25      0.33         4\n",
      "         54       0.50      0.20      0.29         5\n",
      "         55       0.56      0.50      0.53        10\n",
      "         56       0.38      0.83      0.53         6\n",
      "         57       0.00      0.00      0.00         1\n",
      "         58       0.20      0.20      0.20         5\n",
      "         59       1.00      0.17      0.29         6\n",
      "         60       0.00      0.00      0.00         2\n",
      "         61       0.00      0.00      0.00         2\n",
      "         62       0.29      0.50      0.36         4\n",
      "         63       0.00      0.00      0.00         4\n",
      "         64       0.12      0.20      0.15         5\n",
      "         65       0.33      0.50      0.40         4\n",
      "         66       1.00      0.25      0.40         4\n",
      "         67       0.67      0.50      0.57         4\n",
      "         68       1.00      0.62      0.77         8\n",
      "         69       1.00      0.12      0.22         8\n",
      "         70       0.33      0.30      0.32        10\n",
      "         71       1.00      1.00      1.00         4\n",
      "         72       0.11      0.50      0.18         2\n",
      "         73       0.33      0.50      0.40         2\n",
      "         74       0.50      0.33      0.40         6\n",
      "         75       0.71      0.71      0.71         7\n",
      "         76       0.20      0.17      0.18         6\n",
      "         77       0.50      0.33      0.40         6\n",
      "         78       1.00      0.33      0.50         6\n",
      "         79       0.00      0.00      0.00         6\n",
      "         80       0.00      0.00      0.00         1\n",
      "         81       1.00      0.62      0.77         8\n",
      "         82       0.00      0.00      0.00         4\n",
      "         83       0.10      0.12      0.11         8\n",
      "         84       0.33      0.25      0.29         8\n",
      "         85       0.33      0.17      0.22         6\n",
      "         86       0.29      0.40      0.33         5\n",
      "         87       1.00      0.25      0.40         4\n",
      "         88       0.40      0.40      0.40         5\n",
      "         89       0.33      0.11      0.17         9\n",
      "         90       0.14      0.20      0.17         5\n",
      "         91       0.00      0.00      0.00         3\n",
      "         92       0.00      0.00      0.00         4\n",
      "         93       0.17      0.20      0.18         5\n",
      "         94       0.22      0.40      0.29         5\n",
      "         95       0.00      0.00      0.00         6\n",
      "         96       0.08      0.50      0.13         2\n",
      "         97       0.33      0.40      0.36         5\n",
      "         98       0.50      1.00      0.67         4\n",
      "         99       0.00      0.00      0.00         4\n",
      "        100       0.00      0.00      0.00         8\n",
      "        101       1.00      0.25      0.40         8\n",
      "        102       0.67      0.67      0.67         3\n",
      "        103       0.75      0.60      0.67         5\n",
      "        104       0.33      0.50      0.40         4\n",
      "        105       0.33      0.12      0.18         8\n",
      "        106       0.50      0.38      0.43         8\n",
      "        107       0.50      0.12      0.20         8\n",
      "\n",
      "avg / total       0.40      0.32      0.32       551\n",
      "\n",
      "[[3 0 0 ..., 0 0 0]\n",
      " [0 4 0 ..., 0 0 0]\n",
      " [0 0 2 ..., 0 0 0]\n",
      " ..., \n",
      " [0 0 0 ..., 1 0 0]\n",
      " [0 0 0 ..., 0 3 0]\n",
      " [0 0 0 ..., 0 0 1]]\n"
     ]
    },
    {
     "name": "stderr",
     "output_type": "stream",
     "text": [
      "/home/adamszabunio/anaconda3/envs/dl/lib/python3.6/site-packages/sklearn/metrics/classification.py:1113: UndefinedMetricWarning: Precision and F-score are ill-defined and being set to 0.0 in labels with no predicted samples.\n",
      "  'precision', 'predicted', average, warn_for)\n"
     ]
    }
   ],
   "source": [
    "expected1 = y_test\n",
    "predicted1 = model.predict(X_test)\n",
    "# summarize the fit of the model\n",
    "print(metrics.classification_report(expected1, predicted1))\n",
    "test_confus_mat = metrics.confusion_matrix(expected1, predicted1)\n",
    "print(test_confus_mat)"
   ]
  },
  {
   "cell_type": "markdown",
   "metadata": {},
   "source": [
    "# X_test 5 iter"
   ]
  },
  {
   "cell_type": "code",
   "execution_count": 20,
   "metadata": {},
   "outputs": [
    {
     "data": {
      "text/plain": [
       "0.36297640653357532"
      ]
     },
     "execution_count": 20,
     "metadata": {},
     "output_type": "execute_result"
    }
   ],
   "source": [
    "model.score(X_test, y_test)"
   ]
  },
  {
   "cell_type": "code",
   "execution_count": 21,
   "metadata": {
    "scrolled": true
   },
   "outputs": [
    {
     "name": "stdout",
     "output_type": "stream",
     "text": [
      "             precision    recall  f1-score   support\n",
      "\n",
      "          0       0.57      0.40      0.47        10\n",
      "          1       0.80      0.44      0.57         9\n",
      "          2       1.00      0.40      0.57         5\n",
      "          3       0.50      0.50      0.50         6\n",
      "          4       0.50      1.00      0.67         1\n",
      "          5       0.25      0.50      0.33         4\n",
      "          6       0.62      0.62      0.62         8\n",
      "          7       0.33      0.40      0.36         5\n",
      "          8       0.30      0.50      0.37         6\n",
      "          9       0.20      0.17      0.18         6\n",
      "         10       0.38      0.50      0.43         6\n",
      "         11       0.20      0.40      0.27         5\n",
      "         12       0.00      0.00      0.00         3\n",
      "         13       0.00      0.00      0.00         3\n",
      "         14       0.57      0.80      0.67         5\n",
      "         15       0.60      0.75      0.67         8\n",
      "         16       0.33      0.33      0.33         6\n",
      "         17       0.00      0.00      0.00         8\n",
      "         18       0.33      0.33      0.33         6\n",
      "         19       0.00      0.00      0.00         2\n",
      "         20       0.22      0.50      0.31         4\n",
      "         21       0.25      0.33      0.29         3\n",
      "         22       1.00      1.00      1.00         2\n",
      "         23       0.25      0.25      0.25         4\n",
      "         24       0.67      0.29      0.40         7\n",
      "         25       0.00      0.00      0.00         5\n",
      "         26       0.50      0.50      0.50         6\n",
      "         27       0.33      0.29      0.31         7\n",
      "         28       0.67      0.50      0.57         4\n",
      "         29       0.25      0.40      0.31         5\n",
      "         30       0.67      0.67      0.67         3\n",
      "         31       0.75      0.60      0.67         5\n",
      "         32       0.00      0.00      0.00         6\n",
      "         33       0.33      0.50      0.40         2\n",
      "         34       0.20      0.33      0.25         3\n",
      "         35       0.40      0.40      0.40         5\n",
      "         36       0.38      0.38      0.38         8\n",
      "         37       0.33      0.50      0.40         2\n",
      "         38       0.00      0.00      0.00         3\n",
      "         39       0.00      0.00      0.00         5\n",
      "         40       0.50      0.50      0.50         4\n",
      "         41       0.67      0.44      0.53         9\n",
      "         42       0.33      0.60      0.43         5\n",
      "         43       1.00      1.00      1.00         1\n",
      "         44       0.00      0.00      0.00         4\n",
      "         45       0.00      0.00      0.00         2\n",
      "         46       0.29      1.00      0.44         2\n",
      "         47       0.43      0.60      0.50         5\n",
      "         48       0.00      0.00      0.00         5\n",
      "         49       0.50      0.38      0.43         8\n",
      "         50       0.20      0.25      0.22         4\n",
      "         51       0.50      0.50      0.50         4\n",
      "         52       1.00      0.86      0.92         7\n",
      "         53       0.67      0.50      0.57         4\n",
      "         54       0.33      0.20      0.25         5\n",
      "         55       0.75      0.30      0.43        10\n",
      "         56       0.83      0.83      0.83         6\n",
      "         57       0.00      0.00      0.00         1\n",
      "         58       0.12      0.20      0.15         5\n",
      "         59       0.33      0.33      0.33         6\n",
      "         60       0.25      0.50      0.33         2\n",
      "         61       0.00      0.00      0.00         2\n",
      "         62       0.12      0.25      0.17         4\n",
      "         63       0.00      0.00      0.00         4\n",
      "         64       0.08      0.20      0.11         5\n",
      "         65       0.00      0.00      0.00         4\n",
      "         66       1.00      0.50      0.67         4\n",
      "         67       0.60      0.75      0.67         4\n",
      "         68       0.71      0.62      0.67         8\n",
      "         69       1.00      0.12      0.22         8\n",
      "         70       0.50      0.10      0.17        10\n",
      "         71       1.00      1.00      1.00         4\n",
      "         72       0.20      0.50      0.29         2\n",
      "         73       0.00      0.00      0.00         2\n",
      "         74       0.27      0.50      0.35         6\n",
      "         75       0.83      0.71      0.77         7\n",
      "         76       0.00      0.00      0.00         6\n",
      "         77       0.50      0.33      0.40         6\n",
      "         78       0.60      0.50      0.55         6\n",
      "         79       0.00      0.00      0.00         6\n",
      "         80       0.00      0.00      0.00         1\n",
      "         81       1.00      0.75      0.86         8\n",
      "         82       0.00      0.00      0.00         4\n",
      "         83       0.10      0.12      0.11         8\n",
      "         84       0.38      0.38      0.38         8\n",
      "         85       0.40      0.33      0.36         6\n",
      "         86       0.40      0.40      0.40         5\n",
      "         87       0.50      0.50      0.50         4\n",
      "         88       1.00      0.60      0.75         5\n",
      "         89       0.33      0.22      0.27         9\n",
      "         90       0.00      0.00      0.00         5\n",
      "         91       0.00      0.00      0.00         3\n",
      "         92       0.00      0.00      0.00         4\n",
      "         93       0.29      0.40      0.33         5\n",
      "         94       0.25      0.20      0.22         5\n",
      "         95       0.33      0.17      0.22         6\n",
      "         96       0.50      0.50      0.50         2\n",
      "         97       0.67      0.40      0.50         5\n",
      "         98       0.44      1.00      0.62         4\n",
      "         99       0.40      0.50      0.44         4\n",
      "        100       0.00      0.00      0.00         8\n",
      "        101       1.00      0.38      0.55         8\n",
      "        102       0.67      0.67      0.67         3\n",
      "        103       0.67      0.40      0.50         5\n",
      "        104       0.38      0.75      0.50         4\n",
      "        105       0.17      0.12      0.14         8\n",
      "        106       0.30      0.38      0.33         8\n",
      "        107       0.40      0.25      0.31         8\n",
      "\n",
      "avg / total       0.42      0.36      0.37       551\n",
      "\n",
      "[[4 0 0 ..., 0 1 0]\n",
      " [0 4 0 ..., 0 0 0]\n",
      " [0 0 2 ..., 1 0 0]\n",
      " ..., \n",
      " [0 0 0 ..., 1 0 0]\n",
      " [0 0 0 ..., 0 3 1]\n",
      " [0 0 0 ..., 0 0 2]]\n"
     ]
    },
    {
     "name": "stderr",
     "output_type": "stream",
     "text": [
      "/home/adamszabunio/anaconda3/envs/dl/lib/python3.6/site-packages/sklearn/metrics/classification.py:1113: UndefinedMetricWarning: Precision and F-score are ill-defined and being set to 0.0 in labels with no predicted samples.\n",
      "  'precision', 'predicted', average, warn_for)\n"
     ]
    }
   ],
   "source": [
    "expected1 = y_test\n",
    "predicted1 = model.predict(X_test)\n",
    "# summarize the fit of the model\n",
    "print(metrics.classification_report(expected1, predicted1))\n",
    "test_confus_mat = metrics.confusion_matrix(expected1, predicted1)\n",
    "print(test_confus_mat)"
   ]
  },
  {
   "cell_type": "markdown",
   "metadata": {},
   "source": [
    "# X_test 10 iter"
   ]
  },
  {
   "cell_type": "code",
   "execution_count": null,
   "metadata": {
    "collapsed": true
   },
   "outputs": [],
   "source": [
    "model.score(X_test, y_test)"
   ]
  },
  {
   "cell_type": "code",
   "execution_count": 15,
   "metadata": {
    "scrolled": true
   },
   "outputs": [
    {
     "name": "stdout",
     "output_type": "stream",
     "text": [
      "             precision    recall  f1-score   support\n",
      "\n",
      "          0       0.50      1.00      0.67         4\n",
      "          1       0.20      0.50      0.29         2\n",
      "          2       1.00      0.67      0.80         3\n",
      "          3       0.86      0.86      0.86         7\n",
      "          4       0.75      0.75      0.75         4\n",
      "          5       0.25      0.17      0.20         6\n",
      "          6       0.50      0.50      0.50         4\n",
      "          7       0.00      0.00      0.00         4\n",
      "          8       0.75      0.60      0.67         5\n",
      "          9       0.50      0.20      0.29         5\n",
      "         10       0.20      0.17      0.18         6\n",
      "         11       0.00      0.00      0.00         4\n",
      "         12       0.00      0.00      0.00         6\n",
      "         13       0.33      0.17      0.22         6\n",
      "         14       0.67      0.67      0.67         6\n",
      "         15       0.50      0.17      0.25         6\n",
      "         16       1.00      1.00      1.00         1\n",
      "         17       0.67      0.80      0.73         5\n",
      "         18       0.62      0.83      0.71         6\n",
      "         19       0.33      0.60      0.43         5\n",
      "         20       0.33      0.25      0.29         4\n",
      "         21       1.00      0.38      0.55         8\n",
      "         22       0.50      0.67      0.57         3\n",
      "         23       0.71      0.42      0.53        12\n",
      "         24       0.62      0.71      0.67         7\n",
      "         25       0.75      0.50      0.60         6\n",
      "         26       0.67      1.00      0.80         4\n",
      "         27       0.67      0.67      0.67         6\n",
      "         28       0.33      0.50      0.40         2\n",
      "         29       0.55      0.67      0.60         9\n",
      "         30       0.50      0.57      0.53         7\n",
      "         31       0.78      0.88      0.82         8\n",
      "         32       0.40      0.50      0.44         4\n",
      "         33       0.67      0.80      0.73         5\n",
      "         34       0.25      0.12      0.17         8\n",
      "         35       0.75      0.60      0.67         5\n",
      "         36       0.70      0.78      0.74         9\n",
      "         37       1.00      0.33      0.50         3\n",
      "         38       0.33      0.22      0.27         9\n",
      "         39       1.00      1.00      1.00         1\n",
      "         40       0.83      1.00      0.91         5\n",
      "         41       1.00      0.43      0.60         7\n",
      "         42       0.25      0.33      0.29         3\n",
      "         43       0.33      0.25      0.29         4\n",
      "         44       0.25      0.33      0.29         3\n",
      "         45       0.50      0.50      0.50         6\n",
      "         46       0.43      0.75      0.55         4\n",
      "         47       0.33      0.50      0.40         4\n",
      "         48       0.60      0.75      0.67         4\n",
      "         49       0.67      0.40      0.50         5\n",
      "         50       0.83      0.62      0.71         8\n",
      "         51       0.67      0.40      0.50         5\n",
      "         52       1.00      0.75      0.86         4\n",
      "         53       1.00      1.00      1.00         2\n",
      "         54       0.60      0.43      0.50         7\n",
      "         55       0.83      0.83      0.83         6\n",
      "         56       1.00      0.80      0.89         5\n",
      "         57       0.57      0.80      0.67         5\n",
      "         58       0.75      0.60      0.67         5\n",
      "         59       0.67      1.00      0.80         4\n",
      "         60       1.00      0.67      0.80         3\n",
      "         61       0.60      0.38      0.46         8\n",
      "         62       0.40      0.67      0.50         3\n",
      "         63       0.50      0.50      0.50         2\n",
      "         64       0.17      1.00      0.29         2\n",
      "         65       0.25      0.33      0.29         3\n",
      "         66       0.29      0.40      0.33         5\n",
      "         67       0.33      0.20      0.25         5\n",
      "         68       0.67      0.67      0.67         3\n",
      "         69       0.50      0.38      0.43         8\n",
      "         70       0.57      0.80      0.67         5\n",
      "         71       1.00      0.86      0.92         7\n",
      "         72       0.67      0.50      0.57         4\n",
      "         73       0.57      0.67      0.62         6\n",
      "         74       0.60      0.60      0.60         5\n",
      "         75       1.00      1.00      1.00         8\n",
      "         76       0.17      0.50      0.25         2\n",
      "         77       0.67      1.00      0.80         4\n",
      "         78       0.67      0.67      0.67         6\n",
      "         79       0.00      0.00      0.00         5\n",
      "         80       1.00      0.75      0.86         4\n",
      "         81       1.00      1.00      1.00         5\n",
      "         82       0.00      0.00      0.00         4\n",
      "         83       0.57      0.57      0.57         7\n",
      "         84       0.83      0.83      0.83         6\n",
      "         85       1.00      0.60      0.75         5\n",
      "         86       0.67      0.57      0.62         7\n",
      "         87       0.17      0.50      0.25         2\n",
      "         88       0.67      0.80      0.73         5\n",
      "         89       0.43      0.43      0.43         7\n",
      "         90       0.00      0.00      0.00         9\n",
      "         91       0.00      0.00      0.00         5\n",
      "         92       0.50      0.80      0.62         5\n",
      "         93       0.33      0.60      0.43         5\n",
      "         94       0.75      0.75      0.75         8\n",
      "         95       0.40      0.50      0.44         4\n",
      "         96       0.36      0.57      0.44         7\n",
      "         97       0.14      0.17      0.15         6\n",
      "         98       0.50      0.75      0.60         4\n",
      "         99       0.50      0.14      0.22         7\n",
      "        100       0.75      1.00      0.86         3\n",
      "        101       0.50      0.50      0.50         4\n",
      "        102       1.00      0.75      0.86         4\n",
      "        103       0.38      0.50      0.43         6\n",
      "        104       0.80      1.00      0.89         4\n",
      "        105       0.67      0.33      0.44         6\n",
      "        106       0.50      0.67      0.57         3\n",
      "        107       1.00      1.00      1.00         4\n",
      "\n",
      "avg / total       0.57      0.55      0.54       551\n",
      "\n",
      "[[4 0 0 ..., 0 0 0]\n",
      " [0 1 0 ..., 0 0 0]\n",
      " [0 0 2 ..., 0 0 0]\n",
      " ..., \n",
      " [0 0 0 ..., 2 0 0]\n",
      " [0 0 0 ..., 0 2 0]\n",
      " [0 0 0 ..., 0 0 4]]\n"
     ]
    }
   ],
   "source": [
    "expected1 = y_test\n",
    "predicted1 = model.predict(X_test)\n",
    "# summarize the fit of the model\n",
    "print(metrics.classification_report(expected1, predicted1))\n",
    "test_confus_mat = metrics.confusion_matrix(expected1, predicted1)\n",
    "print(test_confus_mat)"
   ]
  },
  {
   "cell_type": "code",
   "execution_count": 24,
   "metadata": {},
   "outputs": [
    {
     "data": {
      "image/png": "[encoded data removed]",
      "text/plain": [
       "<matplotlib.figure.Figure at 0x7fd4cc024588>"
      ]
     },
     "metadata": {},
     "output_type": "display_data"
    }
   ],
   "source": [
    "sns.heatmap(test_confus_mat);"
   ]
  },
  {
   "cell_type": "markdown",
   "metadata": {
    "collapsed": true
   },
   "source": [
    "____"
   ]
  }
 ],
 "metadata": {
  "kernelspec": {
   "display_name": "Python 3",
   "language": "python",
   "name": "python3"
  },
  "language_info": {
   "codemirror_mode": {
    "name": "ipython",
    "version": 3
   },
   "file_extension": ".py",
   "mimetype": "text/x-python",
   "name": "python",
   "nbconvert_exporter": "python",
   "pygments_lexer": "ipython3",
   "version": "3.6.1"
  }
 },
 "nbformat": 4,
 "nbformat_minor": 2
}
